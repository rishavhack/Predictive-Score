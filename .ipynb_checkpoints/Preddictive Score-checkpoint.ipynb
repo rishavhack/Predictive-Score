{
 "cells": [
  {
   "cell_type": "code",
   "execution_count": 1,
   "metadata": {},
   "outputs": [],
   "source": [
    "import numpy as np"
   ]
  },
  {
   "cell_type": "code",
   "execution_count": 2,
   "metadata": {},
   "outputs": [],
   "source": [
    "import pandas as pd"
   ]
  },
  {
   "cell_type": "code",
   "execution_count": 3,
   "metadata": {},
   "outputs": [],
   "source": [
    "stageAndstatus = pd.read_excel(\"Predictive Score Doc/Xlsx/stage&status.xlsx\")"
   ]
  },
  {
   "cell_type": "code",
   "execution_count": 4,
   "metadata": {},
   "outputs": [],
   "source": [
    "QName = pd.read_excel(\"Predictive Score Doc/Xlsx/QName.xlsx\")"
   ]
  },
  {
   "cell_type": "code",
   "execution_count": 5,
   "metadata": {},
   "outputs": [],
   "source": [
    "PGName = pd.read_excel(\"Predictive Score Doc/Xlsx/PGName.xlsx\")"
   ]
  },
  {
   "cell_type": "code",
   "execution_count": 6,
   "metadata": {},
   "outputs": [],
   "source": [
    "PGSpec = pd.read_excel(\"Predictive Score Doc/Xlsx/PGSpec.xlsx\")"
   ]
  },
  {
   "cell_type": "code",
   "execution_count": 7,
   "metadata": {},
   "outputs": [],
   "source": [
    "PGIns = pd.read_excel(\"Predictive Score Doc/Xlsx/PGIns.xlsx\")"
   ]
  },
  {
   "cell_type": "code",
   "execution_count": 8,
   "metadata": {},
   "outputs": [],
   "source": [
    "PreviousEmp = pd.read_excel(\"Predictive Score Doc/Xlsx/PreviousEmp.xlsx\")"
   ]
  },
  {
   "cell_type": "code",
   "execution_count": 9,
   "metadata": {},
   "outputs": [],
   "source": [
    "PreviousDesignation = pd.read_excel(\"Predictive Score Doc/Xlsx/PreviousDesignation.xlsx\")"
   ]
  },
  {
   "cell_type": "code",
   "execution_count": 10,
   "metadata": {},
   "outputs": [],
   "source": [
    "Industry = pd.read_excel(\"Predictive Score Doc/Xlsx/Industry.xlsx\")"
   ]
  },
  {
   "cell_type": "code",
   "execution_count": 11,
   "metadata": {},
   "outputs": [],
   "source": [
    "FunctionArea = pd.read_excel(\"Predictive Score Doc/Xlsx/FunctionArea.xlsx\")"
   ]
  },
  {
   "cell_type": "code",
   "execution_count": 12,
   "metadata": {},
   "outputs": [],
   "source": [
    "IndentRequirment = pd.read_excel(\"Predictive Score Doc/Xlsx/IndentRequirment.xlsx\")"
   ]
  },
  {
   "cell_type": "code",
   "execution_count": 13,
   "metadata": {},
   "outputs": [],
   "source": [
    "SourceName = pd.read_excel(\"Predictive Score Doc/Xlsx/SourceName.xlsx\")"
   ]
  },
  {
   "cell_type": "code",
   "execution_count": 14,
   "metadata": {},
   "outputs": [],
   "source": [
    "Low_pop = pd.read_csv(\"Predictive Score Doc/Low_Pop/cat_map_tab_BM_DBM_model.csv\")"
   ]
  },
  {
   "cell_type": "code",
   "execution_count": 15,
   "metadata": {},
   "outputs": [],
   "source": [
    "sample_data = pd.read_excel(\"Sample.xlsx\")\n",
    "allCandidate = []"
   ]
  },
  {
   "cell_type": "code",
   "execution_count": 16,
   "metadata": {},
   "outputs": [],
   "source": [
    "sample_data = sample_data.replace(np.nan, '', regex=True)"
   ]
  },
  {
   "cell_type": "code",
   "execution_count": 17,
   "metadata": {},
   "outputs": [],
   "source": [
    "for i in range(0,sample_data.last_valid_index()):\n",
    "    rid = {};\n",
    "    rid['RID'] = sample_data.iloc[i].RID\n",
    "    rid['QName1_Class'] = QName[QName['QName1'].str.strip() == sample_data.iloc[i].QName1.strip()]['QName1_Class'].item().encode(\"utf-8\") if len(QName[QName['QName1'].str.strip() == sample_data.iloc[i].QName1.strip()]['QName1_Class']) > 0 else \"UNKNOWN\"\n",
    "    rid['PGName2_Class'] = PGName[PGName['PGName2'].str.strip() == sample_data.iloc[i].PGName.strip()]['PGName2_Class'].item().encode(\"utf-8\") if len(PGName[PGName['PGName2'].str.strip() == sample_data.iloc[i].PGName.strip()]['PGName2_Class']) > 0 else \"UNKNOWN\"\n",
    "    rid['PGSpec_Class'] = PGSpec[PGSpec['PGSpec'].str.strip() == sample_data.iloc[i].PGSpecification.strip()]['PGSpec_Class'].item().encode(\"utf-8\") if len(PGSpec[PGSpec['PGSpec'].str.strip() == sample_data.iloc[i].PGSpecification.strip()]['PGSpec_Class']) > 0 else \"UNKNOWN\"\n",
    "    rid['PGIns_Class'] = PGIns[PGIns['PGIns2 / PGUni2'].str.strip() == sample_data.iloc[i].PGIns.strip()]['PGIns_Class'].item().encode(\"utf-8\") if len(PGIns[PGIns['PGIns2 / PGUni2'].str.strip() == sample_data.iloc[i].PGIns.strip()]['PGIns_Class']) > 0  else \"UNKNOWN\"\n",
    "    rid['Prev_Empl_Class'] = PreviousEmp[PreviousEmp['Previous Employer'].str.strip() == sample_data.iloc[i].PreviousEmployer.strip()]['Prev_Empl_Class'].item().encode(\"utf-8\") if len(PreviousEmp[PreviousEmp['Previous Employer'].str.strip() == sample_data.iloc[i].PreviousEmployer.strip()]['Prev_Empl_Class']) > 0  else \"UNKNOWN\"\n",
    "    rid['Prev_Desig_Class'] = PreviousDesignation[PreviousDesignation['Previous Designation'].str.strip() == sample_data.iloc[i].PreviousDesignation.strip()]['Prev_Desig_Class'].item().encode(\"utf-8\") if len(PreviousDesignation[PreviousDesignation['Previous Designation'].str.strip() == sample_data.iloc[i].PreviousDesignation.strip()]['Prev_Desig_Class']) > 0 else \"UNKNOWN\"\n",
    "    rid['Industry_Class'] = Industry[Industry['Industry'].str.strip() == sample_data.iloc[i].Industry.strip()]['Industry_Class'].item().encode(\"utf-8\") if len(Industry[Industry['Industry'].str.strip() == sample_data.iloc[i].Industry.strip()]['Industry_Class']) > 0 else \"UNKNOWN\"\n",
    "    rid['Function_Class'] = FunctionArea[FunctionArea['Functional_Area'].str.strip() ==  sample_data.iloc[i].FunctionalArea.strip()]['Function_Class'].item().encode(\"utf-8\") if len(FunctionArea[FunctionArea['Functional_Area'].str.strip() ==  sample_data.iloc[i].FunctionalArea.strip()]['Function_Class']) > 0 else \"UNKNOWN\"\n",
    "    rid['Source_Name'] = SourceName[SourceName['Source TAG'].str.strip() == sample_data.iloc[i].SourceName.strip()]['Source Name'].item().encode(\"utf-8\") if  len(SourceName[SourceName['Source TAG'].str.strip() == sample_data.iloc[i].SourceName.strip()]['Source Name']) > 0 else \"UNKNOWN\"\n",
    "    rid['Title_Class'] = IndentRequirment[IndentRequirment['Indent Title'].str.strip() == sample_data.iloc[i].IndentTitle.strip()]['Title_Class'].item().encode(\"utf-8\") if len(IndentRequirment[IndentRequirment['Indent Title'].str.strip() == sample_data.iloc[i].IndentTitle.strip()]['Title_Class']) > 0 else \"UNKNOWN\"\n",
    "    rid['Gender'] = sample_data.iloc[i].Gender.encode(\"utf-8\")\n",
    "    rid['Age'] = sample_data.iloc[i].Age\n",
    "    rid['Marital_Status'] = sample_data.iloc[i].MartitalStatus.encode(\"utf-8\")\n",
    "    rid['QType1'] = sample_data.iloc[i].QType1.encode(\"utf-8\")\n",
    "    rid['QPer2'] = sample_data.iloc[i].Qpercentage\n",
    "    rid['PGPer3'] = sample_data.iloc[i].PGPercentage\n",
    "    rid['Present_CTC'] = sample_data.iloc[i].PresentCTC\n",
    "    rid['Work_Ex'] = sample_data.iloc[i].WorkExperience\n",
    "    allCandidate.append(rid)\n",
    "    "
   ]
  },
  {
   "cell_type": "code",
   "execution_count": 99,
   "metadata": {},
   "outputs": [
    {
     "data": {
      "text/plain": [
       "0                Gender\n",
       "3        Marital_Status\n",
       "6          QName1_Class\n",
       "17               QType1\n",
       "21        PGName2_Class\n",
       "32         PGSpec_Class\n",
       "46          PGIns_Class\n",
       "51      Prev_Empl_Class\n",
       "57     Prev_Desig_Class\n",
       "78       Industry_Class\n",
       "89       Function_Class\n",
       "110         Source_Name\n",
       "116         Title_Class\n",
       "Name: Variable_name, dtype: object"
      ]
     },
     "execution_count": 99,
     "metadata": {},
     "output_type": "execute_result"
    }
   ],
   "source": [
    "Low_pop['Variable_name'].drop_duplicates()"
   ]
  },
  {
   "cell_type": "code",
   "execution_count": 72,
   "metadata": {},
   "outputs": [
    {
     "data": {
      "text/plain": [
       "0    False\n",
       "1     True\n",
       "2    False\n",
       "Name: Category, dtype: bool"
      ]
     },
     "execution_count": 72,
     "metadata": {},
     "output_type": "execute_result"
    }
   ],
   "source": [
    "Low_pop[Low_pop['Variable_name'] == 'Gender']['Category'] == allCandidate[0]['Gender']"
   ]
  },
  {
   "cell_type": "code",
   "execution_count": 136,
   "metadata": {},
   "outputs": [
    {
     "data": {
      "text/plain": [
       "'BM'"
      ]
     },
     "execution_count": 136,
     "metadata": {},
     "output_type": "execute_result"
    }
   ],
   "source": [
    "ax = Low_pop[Low_pop['Variable_name'] == 'Title_Class']\n",
    "ax[ax['Category'] == allCandidate[0]['Title_Class']]['New_category'].item()"
   ]
  },
  {
   "cell_type": "code",
   "execution_count": 124,
   "metadata": {},
   "outputs": [
    {
     "data": {
      "text/plain": [
       "'Low_pop_perc'"
      ]
     },
     "execution_count": 124,
     "metadata": {},
     "output_type": "execute_result"
    }
   ],
   "source": []
  },
  {
   "cell_type": "code",
   "execution_count": 139,
   "metadata": {},
   "outputs": [
    {
     "data": {
      "text/plain": [
       "{'Age': 50,\n",
       " 'Function_Class': 'ADMINISTRATION',\n",
       " 'Gender': 'Male',\n",
       " 'Industry_Class': 'ENGINEERING',\n",
       " 'Marital_Status': 'Single',\n",
       " 'PGIns_Class': 'TIER_2',\n",
       " 'PGName2_Class': 'NOT APPLICABLE',\n",
       " 'PGPer3': 67.0,\n",
       " 'PGSpec_Class': 'ENGINEERING',\n",
       " 'Present_CTC': 1000,\n",
       " 'Prev_Desig_Class': 'ACCOUNTS MANAGER',\n",
       " 'Prev_Empl_Class': 'BANKING/BFSI',\n",
       " 'QName1_Class': 'MANAGEMENT',\n",
       " 'QPer2': 88.0,\n",
       " 'QType1': 'Full Time',\n",
       " 'RID': 8,\n",
       " 'Source_Name': 'Consultant',\n",
       " 'Title_Class': 'BM',\n",
       " 'Work_Ex': 3}"
      ]
     },
     "execution_count": 139,
     "metadata": {},
     "output_type": "execute_result"
    }
   ],
   "source": [
    "allCandidate[0]"
   ]
  },
  {
   "cell_type": "code",
   "execution_count": 152,
   "metadata": {},
   "outputs": [],
   "source": [
    "hack = [];\n",
    "for i in range(0,len(allCandidate)):\n",
    "    pdScore = {}\n",
    "    pdScore['RID'] = allCandidate[i]['RID']\n",
    "    pdScore['QPer2'] = allCandidate[i]['QPer2']\n",
    "    pdScore['PGPer3'] = allCandidate[i]['PGPer3']\n",
    "    pdScore['Present_CTC'] = allCandidate[i]['Present_CTC']\n",
    "    pdScore['Work_Ex'] = allCandidate[i]['Work_Ex']\n",
    "    x = Low_pop[Low_pop['Variable_name'] == 'Gender']\n",
    "    pdScore['Gender']= x[x['Category'] == allCandidate[i]['Gender']]['New_category'].item()\n",
    "    x = Low_pop[Low_pop['Variable_name'] == 'Marital_Status']\n",
    "    pdScore['Marital_Status']= x[x['Category'] == allCandidate[i]['Marital_Status']]['New_category'].item()\n",
    "    x = Low_pop[Low_pop['Variable_name'] == 'QName1_Class']\n",
    "    pdScore['QName1_Class']= x[x['Category'] == allCandidate[i]['QName1_Class']]['New_category'].item()\n",
    "    x = Low_pop[Low_pop['Variable_name'] == 'QType1']\n",
    "    pdScore['QType1']= x[x['Category'] == allCandidate[i]['QType1']]['New_category'].item()\n",
    "    x = Low_pop[Low_pop['Variable_name'] == 'PGName2_Class']\n",
    "    pdScore['PGName2']= x[x['Category'] == allCandidate[i]['PGName2_Class']]['New_category'].item()\n",
    "    x = Low_pop[Low_pop['Variable_name'] == 'PGSpec_Class']\n",
    "    pdScore['PGSpec']= x[x['Category'] == allCandidate[i]['PGSpec_Class']]['New_category'].item()\n",
    "    x = Low_pop[Low_pop['Variable_name'] == 'PGIns_Class']\n",
    "    pdScore['PGIns']= x[x['Category'] == allCandidate[i]['PGIns_Class']]['New_category'].item()\n",
    "    x = Low_pop[Low_pop['Variable_name'] == 'Prev_Empl_Class']\n",
    "    pdScore['Prev_Empl']= x[x['Category'] == allCandidate[i]['Prev_Empl_Class']]['New_category'].item()\n",
    "    x = Low_pop[Low_pop['Variable_name'] == 'Prev_Desig_Class']\n",
    "    pdScore['Prev_Desig']= x[x['Category'] == allCandidate[i]['Prev_Desig_Class']]['New_category'].item()\n",
    "    x = Low_pop[Low_pop['Variable_name'] == 'Industry_Class']\n",
    "    pdScore['Industry']= x[x['Category'] == allCandidate[i]['Industry_Class']]['New_category'].item()\n",
    "    x = Low_pop[Low_pop['Variable_name'] == 'Function_Class']\n",
    "    pdScore['Function']= x[x['Category'] == allCandidate[i]['Function_Class']]['New_category'].item()\n",
    "    x = Low_pop[Low_pop['Variable_name'] == 'Source_Name']\n",
    "    pdScore['Source_Name']= x[x['Category'] == allCandidate[i]['Source_Name']]['New_category'].item()\n",
    "    x = Low_pop[Low_pop['Variable_name'] == 'Title_Class']\n",
    "    pdScore['Title']= x[x['Category'] == allCandidate[i]['Title_Class']]['New_category'].item()\n",
    "    pdScore['Age'] = allCandidate[i]['Age']\n",
    "    hack.append(pdScore)"
   ]
  },
  {
   "cell_type": "code",
   "execution_count": 154,
   "metadata": {},
   "outputs": [
    {
     "data": {
      "text/plain": [
       "{'Age': 50,\n",
       " 'Function': 'Low_pop_perc',\n",
       " 'Gender': 'Male',\n",
       " 'Industry': 'Low_pop_perc',\n",
       " 'Marital_Status': 'Single',\n",
       " 'PGIns': 'Low_pop_perc',\n",
       " 'PGName2': 'Low_pop_perc',\n",
       " 'PGPer3': 67.0,\n",
       " 'PGSpec': 'Low_pop_perc',\n",
       " 'Present_CTC': 1000,\n",
       " 'Prev_Desig': 'Low_pop_perc',\n",
       " 'Prev_Empl': 'BANKING/BFSI',\n",
       " 'QName1_Class': 'Low_pop_perc',\n",
       " 'QPer2': 88.0,\n",
       " 'QType1': 'Full Time',\n",
       " 'RID': 8,\n",
       " 'Source_Name': 'Consultant',\n",
       " 'Title': 'BM',\n",
       " 'Work_Ex': 3}"
      ]
     },
     "execution_count": 154,
     "metadata": {},
     "output_type": "execute_result"
    }
   ],
   "source": [
    "hack[0]"
   ]
  },
  {
   "cell_type": "code",
   "execution_count": 145,
   "metadata": {},
   "outputs": [
    {
     "data": {
      "text/plain": [
       "{'Age': 50,\n",
       " 'Function_Class': 'ADMINISTRATION',\n",
       " 'Gender': 'Male',\n",
       " 'Industry_Class': 'ENGINEERING',\n",
       " 'Marital_Status': 'Single',\n",
       " 'PGIns_Class': 'TIER_2',\n",
       " 'PGName2_Class': 'NOT APPLICABLE',\n",
       " 'PGPer3': 67.0,\n",
       " 'PGSpec_Class': 'ENGINEERING',\n",
       " 'Present_CTC': 1000,\n",
       " 'Prev_Desig_Class': 'ACCOUNTS MANAGER',\n",
       " 'Prev_Empl_Class': 'BANKING/BFSI',\n",
       " 'QName1_Class': 'MANAGEMENT',\n",
       " 'QPer2': 88.0,\n",
       " 'QType1': 'Full Time',\n",
       " 'RID': 8,\n",
       " 'Source_Name': 'Consultant',\n",
       " 'Title_Class': 'BM',\n",
       " 'Work_Ex': 3}"
      ]
     },
     "execution_count": 145,
     "metadata": {},
     "output_type": "execute_result"
    }
   ],
   "source": [
    "allCandidate[0]"
   ]
  },
  {
   "cell_type": "code",
   "execution_count": null,
   "metadata": {},
   "outputs": [],
   "source": []
  }
 ],
 "metadata": {
  "kernelspec": {
   "display_name": "Python 2",
   "language": "python",
   "name": "python2"
  },
  "language_info": {
   "codemirror_mode": {
    "name": "ipython",
    "version": 2
   },
   "file_extension": ".py",
   "mimetype": "text/x-python",
   "name": "python",
   "nbconvert_exporter": "python",
   "pygments_lexer": "ipython2",
   "version": "2.7.13"
  }
 },
 "nbformat": 4,
 "nbformat_minor": 2
}
