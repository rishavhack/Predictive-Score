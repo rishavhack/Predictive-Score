{
 "cells": [
  {
   "cell_type": "code",
   "execution_count": 1,
   "metadata": {},
   "outputs": [],
   "source": [
    "import numpy as np"
   ]
  },
  {
   "cell_type": "code",
   "execution_count": 2,
   "metadata": {},
   "outputs": [],
   "source": [
    "import pandas as pd"
   ]
  },
  {
   "cell_type": "code",
   "execution_count": 3,
   "metadata": {},
   "outputs": [],
   "source": [
    "import math"
   ]
  },
  {
   "cell_type": "code",
   "execution_count": 4,
   "metadata": {},
   "outputs": [],
   "source": [
    "stageAndstatus = pd.read_excel(\"Predictive Score Doc/Xlsx/stage&status.xlsx\")"
   ]
  },
  {
   "cell_type": "code",
   "execution_count": 5,
   "metadata": {},
   "outputs": [],
   "source": [
    "QName = pd.read_excel(\"Predictive Score Doc/Xlsx/QName.xlsx\")"
   ]
  },
  {
   "cell_type": "code",
   "execution_count": 6,
   "metadata": {},
   "outputs": [],
   "source": [
    "PGName = pd.read_excel(\"Predictive Score Doc/Xlsx/PGName.xlsx\")"
   ]
  },
  {
   "cell_type": "code",
   "execution_count": 7,
   "metadata": {},
   "outputs": [],
   "source": [
    "PGSpec = pd.read_excel(\"Predictive Score Doc/Xlsx/PGSpec.xlsx\")"
   ]
  },
  {
   "cell_type": "code",
   "execution_count": 8,
   "metadata": {},
   "outputs": [],
   "source": [
    "PGIns = pd.read_excel(\"Predictive Score Doc/Xlsx/PGIns.xlsx\")"
   ]
  },
  {
   "cell_type": "code",
   "execution_count": 9,
   "metadata": {},
   "outputs": [],
   "source": [
    "PreviousEmp = pd.read_excel(\"Predictive Score Doc/Xlsx/PreviousEmp.xlsx\")"
   ]
  },
  {
   "cell_type": "code",
   "execution_count": 10,
   "metadata": {},
   "outputs": [],
   "source": [
    "PreviousDesignation = pd.read_excel(\"Predictive Score Doc/Xlsx/PreviousDesignation.xlsx\")"
   ]
  },
  {
   "cell_type": "code",
   "execution_count": 11,
   "metadata": {},
   "outputs": [],
   "source": [
    "Industry = pd.read_excel(\"Predictive Score Doc/Xlsx/Industry.xlsx\")"
   ]
  },
  {
   "cell_type": "code",
   "execution_count": 12,
   "metadata": {},
   "outputs": [],
   "source": [
    "FunctionArea = pd.read_excel(\"Predictive Score Doc/Xlsx/FunctionArea.xlsx\")"
   ]
  },
  {
   "cell_type": "code",
   "execution_count": 13,
   "metadata": {},
   "outputs": [],
   "source": [
    "IndentRequirment = pd.read_excel(\"Predictive Score Doc/Xlsx/IndentRequirment.xlsx\")"
   ]
  },
  {
   "cell_type": "code",
   "execution_count": 14,
   "metadata": {},
   "outputs": [],
   "source": [
    "SourceName = pd.read_excel(\"Predictive Score Doc/Xlsx/SourceName.xlsx\")"
   ]
  },
  {
   "cell_type": "code",
   "execution_count": 15,
   "metadata": {},
   "outputs": [],
   "source": [
    "Low_pop = pd.read_csv(\"Predictive Score Doc/Low_Pop/cat_map_tab_BM_DBM_model.csv\")"
   ]
  },
  {
   "cell_type": "code",
   "execution_count": 16,
   "metadata": {},
   "outputs": [],
   "source": [
    "BM = pd.read_excel(\"Predictive Score Doc/pred_Score/BM.xlsx\")"
   ]
  },
  {
   "cell_type": "code",
   "execution_count": 17,
   "metadata": {},
   "outputs": [],
   "source": [
    "DBM = pd.read_excel(\"Predictive Score Doc/pred_Score/DBM.xlsx\")"
   ]
  },
  {
   "cell_type": "code",
   "execution_count": 17,
   "metadata": {},
   "outputs": [],
   "source": [
    "sample_data = pd.read_excel(\"Sample.xlsx\")\n",
    "allCandidate = []"
   ]
  },
  {
   "cell_type": "code",
   "execution_count": 28,
   "metadata": {},
   "outputs": [],
   "source": [
    "sample_data = sample_data.replace(np.nan, '', regex=True)"
   ]
  },
  {
   "cell_type": "code",
   "execution_count": 24,
   "metadata": {},
   "outputs": [],
   "source": [
    "for i in range(0,sample_data.last_valid_index()):\n",
    "    rid = {};\n",
    "    rid['RID'] = sample_data.iloc[i].RID\n",
    "    rid['QName1_Class'] = QName[QName['QName1'].str.strip() == sample_data.iloc[i].QName1.strip()]['QName1_Class'].item().encode(\"utf-8\") if len(QName[QName['QName1'].str.strip() == sample_data.iloc[i].QName1.strip()]['QName1_Class']) > 0 else \"NO_INFO\"\n",
    "    rid['PGName2_Class'] = PGName[PGName['PGName2'].str.strip() == sample_data.iloc[i].PGName.strip()]['PGName2_Class'].item().encode(\"utf-8\") if len(PGName[PGName['PGName2'].str.strip() == sample_data.iloc[i].PGName.strip()]['PGName2_Class']) > 0 else \"NO_INFO\"\n",
    "    rid['PGSpec_Class'] = PGSpec[PGSpec['PGSpec'].str.strip() == sample_data.iloc[i].PGSpecification.strip()]['PGSpec_Class'].item().encode(\"utf-8\") if len(PGSpec[PGSpec['PGSpec'].str.strip() == sample_data.iloc[i].PGSpecification.strip()]['PGSpec_Class']) > 0 else \"NO_INFO\"\n",
    "    rid['PGIns_Class'] = PGIns[PGIns['PGIns2 / PGUni2'].str.strip() == sample_data.iloc[i].PGIns.strip()]['PGIns_Class'].item().encode(\"utf-8\") if len(PGIns[PGIns['PGIns2 / PGUni2'].str.strip() == sample_data.iloc[i].PGIns.strip()]['PGIns_Class']) > 0  else \"NO_INFO\"\n",
    "    rid['Prev_Empl_Class'] = PreviousEmp[PreviousEmp['Previous Employer'].str.strip() == sample_data.iloc[i].PreviousEmployer.strip()]['Prev_Empl_Class'].item().encode(\"utf-8\") if len(PreviousEmp[PreviousEmp['Previous Employer'].str.strip() == sample_data.iloc[i].PreviousEmployer.strip()]['Prev_Empl_Class']) > 0  else \"NO_INFO\"\n",
    "    rid['Prev_Desig_Class'] = PreviousDesignation[PreviousDesignation['Previous Designation'].str.strip() == sample_data.iloc[i].PreviousDesignation.strip()]['Prev_Desig_Class'].item().encode(\"utf-8\") if len(PreviousDesignation[PreviousDesignation['Previous Designation'].str.strip() == sample_data.iloc[i].PreviousDesignation.strip()]['Prev_Desig_Class']) > 0 else \"NO_INFO\"\n",
    "    rid['Industry_Class'] = Industry[Industry['Industry'].str.strip() == sample_data.iloc[i].Industry.strip()]['Industry_Class'].item().encode(\"utf-8\") if len(Industry[Industry['Industry'].str.strip() == sample_data.iloc[i].Industry.strip()]['Industry_Class']) > 0 else \"NO_INFO\"\n",
    "    rid['Function_Class'] = FunctionArea[FunctionArea['Functional_Area'].str.strip() ==  sample_data.iloc[i].FunctionalArea.strip()]['Function_Class'].item().encode(\"utf-8\") if len(FunctionArea[FunctionArea['Functional_Area'].str.strip() ==  sample_data.iloc[i].FunctionalArea.strip()]['Function_Class']) > 0 else \"UNKNOWN\"\n",
    "    rid['Source_Name'] = SourceName[SourceName['Source TAG'].str.strip() == sample_data.iloc[i].SourceName.strip()]['Source Name'].item().encode(\"utf-8\") if  len(SourceName[SourceName['Source TAG'].str.strip() == sample_data.iloc[i].SourceName.strip()]['Source Name']) > 0 else \"UNKNOWN\"\n",
    "    rid['Title_Class'] = IndentRequirment[IndentRequirment['Indent Title'].str.strip() == sample_data.iloc[i].IndentTitle.strip()]['Title_Class'].item().encode(\"utf-8\") if len(IndentRequirment[IndentRequirment['Indent Title'].str.strip() == sample_data.iloc[i].IndentTitle.strip()]['Title_Class']) > 0 else \"UNKNOWN\"\n",
    "    rid['Gender'] = sample_data.iloc[i].Gender.encode(\"utf-8\")\n",
    "    rid['Age'] = sample_data.iloc[i].Age\n",
    "    rid['Marital_Status'] = sample_data.iloc[i].MartitalStatus.encode(\"utf-8\")\n",
    "    rid['QType1'] = sample_data.iloc[i].QType1.encode(\"utf-8\")\n",
    "    rid['QPer2'] = sample_data.iloc[i].Qpercentage\n",
    "    rid['PGPer3'] = sample_data.iloc[i].PGPercentage\n",
    "    rid['Present_CTC'] = sample_data.iloc[i].PresentCTC\n",
    "    rid['Work_Ex'] = sample_data.iloc[i].WorkExperience\n",
    "    allCandidate.append(rid)\n",
    "    "
   ]
  },
  {
   "cell_type": "code",
   "execution_count": null,
   "metadata": {},
   "outputs": [],
   "source": []
  },
  {
   "cell_type": "code",
   "execution_count": null,
   "metadata": {},
   "outputs": [],
   "source": []
  },
  {
   "cell_type": "code",
   "execution_count": null,
   "metadata": {},
   "outputs": [],
   "source": []
  },
  {
   "cell_type": "code",
   "execution_count": null,
   "metadata": {},
   "outputs": [],
   "source": []
  },
  {
   "cell_type": "code",
   "execution_count": 25,
   "metadata": {},
   "outputs": [],
   "source": [
    "hack = [];\n",
    "for i in range(0,len(allCandidate)):\n",
    "    pdScore = {}\n",
    "    pdScore['RID'] = allCandidate[i]['RID']\n",
    "    pdScore['QPer2'] = allCandidate[i]['QPer2']\n",
    "    pdScore['PGPer3'] = allCandidate[i]['PGPer3']\n",
    "    pdScore['Present_CTC'] = allCandidate[i]['Present_CTC']\n",
    "    pdScore['Work_Ex'] = allCandidate[i]['Work_Ex']\n",
    "    x = Low_pop[Low_pop['Variable_name'] == 'Gender']\n",
    "    pdScore['Gender']= x[x['Category'] == allCandidate[i]['Gender']]['New_category'].item()\n",
    "    x = Low_pop[Low_pop['Variable_name'] == 'Marital_Status']\n",
    "    pdScore['Marital_Status']= x[x['Category'] == allCandidate[i]['Marital_Status']]['New_category'].item()\n",
    "    x = Low_pop[Low_pop['Variable_name'] == 'QName1_Class']\n",
    "    pdScore['QName1']= x[x['Category'] == allCandidate[i]['QName1_Class']]['New_category'].item()\n",
    "    x = Low_pop[Low_pop['Variable_name'] == 'QType1']\n",
    "    pdScore['QType1']= x[x['Category'] == allCandidate[i]['QType1']]['New_category'].item()\n",
    "    x = Low_pop[Low_pop['Variable_name'] == 'PGName2_Class']\n",
    "    pdScore['PGName2']= x[x['Category'] == allCandidate[i]['PGName2_Class']]['New_category'].item()\n",
    "    x = Low_pop[Low_pop['Variable_name'] == 'PGSpec_Class']\n",
    "    pdScore['PGSpec']= x[x['Category'] == allCandidate[i]['PGSpec_Class']]['New_category'].item()\n",
    "    x = Low_pop[Low_pop['Variable_name'] == 'PGIns_Class']\n",
    "    pdScore['PGIns']= x[x['Category'] == allCandidate[i]['PGIns_Class']]['New_category'].item()\n",
    "    x = Low_pop[Low_pop['Variable_name'] == 'Prev_Empl_Class']\n",
    "    pdScore['Prev_Empl']= x[x['Category'] == allCandidate[i]['Prev_Empl_Class']]['New_category'].item()\n",
    "    x = Low_pop[Low_pop['Variable_name'] == 'Prev_Desig_Class']\n",
    "    pdScore['Prev_Desig']= x[x['Category'] == allCandidate[i]['Prev_Desig_Class']]['New_category'].item()\n",
    "    x = Low_pop[Low_pop['Variable_name'] == 'Industry_Class']\n",
    "    pdScore['Industry']= x[x['Category'] == allCandidate[i]['Industry_Class']]['New_category'].item()\n",
    "    x = Low_pop[Low_pop['Variable_name'] == 'Function_Class']\n",
    "    pdScore['Function']= x[x['Category'] == allCandidate[i]['Function_Class']]['New_category'].item()\n",
    "    x = Low_pop[Low_pop['Variable_name'] == 'Source_Name']\n",
    "    pdScore['Source_Name']= x[x['Category'] == allCandidate[i]['Source_Name']]['New_category'].item()\n",
    "    x = Low_pop[Low_pop['Variable_name'] == 'Title_Class']\n",
    "    pdScore['Title']= x[x['Category'] == allCandidate[i]['Title_Class']]['New_category'].item()\n",
    "    pdScore['Age'] = allCandidate[i]['Age']\n",
    "    hack.append(pdScore)"
   ]
  },
  {
   "cell_type": "code",
   "execution_count": null,
   "metadata": {},
   "outputs": [],
   "source": []
  },
  {
   "cell_type": "code",
   "execution_count": 26,
   "metadata": {},
   "outputs": [],
   "source": [
    "formula = []\n",
    "for i in range(0,len(hack)):\n",
    "    if(hack[i]['Title'] == 'BM'):\n",
    "        predScore = {}\n",
    "        y = BM[BM['Variable'] == 'Function']\n",
    "        predScore['Function'] = y[y['Class'] == hack[i]['Function']]['Estimate'].item()\n",
    "        y = BM[BM['Variable'] == 'Gender']\n",
    "        predScore['Gender'] = y[y['Class'] == hack[i]['Gender']]['Estimate'].item()\n",
    "        y = BM[BM['Variable'] == 'Industry']\n",
    "        predScore['Industry'] = y[y['Class'] == hack[i]['Industry']]['Estimate'].item()\n",
    "        y = BM[BM['Variable'] == 'Marital_Status']\n",
    "        predScore['Marital_Status'] = y[y['Class'] == hack[i]['Marital_Status']]['Estimate'].item()\n",
    "        y = BM[BM['Variable'] == 'PGIns']\n",
    "        predScore['PGIns'] = y[y['Class'] == hack[i]['PGIns']]['Estimate'].item()\n",
    "        y = BM[BM['Variable'] == 'PGName2']\n",
    "        predScore['PGName2'] = y[y['Class'] == hack[i]['PGName2']]['Estimate'].item()\n",
    "        y = BM[BM['Variable'] == 'PGSpec']\n",
    "        predScore['PGSpec'] = y[y['Class'] == hack[i]['PGSpec']]['Estimate'].item()\n",
    "        y = BM[BM['Variable'] == 'Prev_Desig']\n",
    "        predScore['Prev_Desig'] = y[y['Class'] == hack[i]['Prev_Desig']]['Estimate'].item()\n",
    "        y = BM[BM['Variable'] == 'Prev_Empl']\n",
    "        predScore['Prev_Empl'] = y[y['Class'] == hack[i]['Prev_Empl']]['Estimate'].item()\n",
    "        y = BM[BM['Variable'] == 'QName1']\n",
    "        predScore['QName1'] = y[y['Class'] == hack[i]['QName1']]['Estimate'].item()\n",
    "        y = BM[BM['Variable'] == 'QType1']\n",
    "        predScore['QType1'] = y[y['Class'] == hack[i]['QType1']]['Estimate'].item()\n",
    "        y = BM[BM['Variable'] == 'Source_Name']\n",
    "        predScore['Source_Name'] = y[y['Class'] == hack[i]['Source_Name']]['Estimate'].item()\n",
    "        predScore['Age'] = hack[i]['Age'] * -0.04243;\n",
    "        predScore['QPer2'] = hack[i]['QPer2'] * -0.01251;\n",
    "        predScore['PGPer3'] = hack[i]['PGPer3'] * 0.01125;\n",
    "        predScore['Present_CTC'] = hack[i]['Present_CTC'] * -0.000001902;\n",
    "        predScore['Work_Ex'] = hack[i]['Work_Ex'] * -0.02372;\n",
    "        predScore['Intercept'] = 4.021;\n",
    "        predScore['RID'] = hack[i]['RID']\n",
    "        predScore['SUM'] = predScore['Age'] + predScore['Function'] + predScore['Gender'] + predScore['Industry'] + predScore['Intercept'] + predScore['Marital_Status'] + predScore['PGIns'] + predScore['PGName2'] + predScore['PGPer3'] + predScore['PGSpec'] + predScore['Present_CTC'] + predScore['Prev_Desig'] + predScore['Prev_Empl'] + predScore['QName1'] + predScore['QPer2'] + predScore['QType1'] + predScore['Source_Name'] + predScore['Work_Ex']\n",
    "        predScore['PredictedProbability'] = 1 / (1+(math.exp(predScore['SUM'] * -1)))\n",
    "        predScore['Score'] = predScore['PredictedProbability'] * 100\n",
    "        formula.append(predScore)"
   ]
  },
  {
   "cell_type": "code",
   "execution_count": 27,
   "metadata": {},
   "outputs": [
    {
     "data": {
      "text/plain": [
       "{'Age': -2.1215,\n",
       " 'Function': -0.5555,\n",
       " 'Gender': 1.003,\n",
       " 'Industry': -13.61,\n",
       " 'Intercept': 4.021,\n",
       " 'Marital_Status': -0.7611,\n",
       " 'PGIns': 0.0,\n",
       " 'PGName2': 0.0,\n",
       " 'PGPer3': 0.7537499999999999,\n",
       " 'PGSpec': 0.3557,\n",
       " 'PredictedProbability': 6.014736511376206e-06,\n",
       " 'Present_CTC': -0.001902,\n",
       " 'Prev_Desig': 0.1737,\n",
       " 'Prev_Empl': 0.0,\n",
       " 'QName1': -0.1064,\n",
       " 'QPer2': -1.10088,\n",
       " 'QType1': 0.0,\n",
       " 'RID': 8,\n",
       " 'SUM': -12.021291999999999,\n",
       " 'Score': 0.0006014736511376205,\n",
       " 'Source_Name': 0.0,\n",
       " 'Work_Ex': -0.07116}"
      ]
     },
     "execution_count": 27,
     "metadata": {},
     "output_type": "execute_result"
    }
   ],
   "source": [
    "formula[0]  "
   ]
  },
  {
   "cell_type": "code",
   "execution_count": 24,
   "metadata": {},
   "outputs": [
    {
     "data": {
      "text/plain": [
       "-12.021291999999999"
      ]
     },
     "execution_count": 24,
     "metadata": {},
     "output_type": "execute_result"
    }
   ],
   "source": [
    "formula[0]['Age'] + formula[0]['Function'] + formula[0]['Gender'] + formula[0]['Industry'] + formula[0]['Intercept'] + formula[0]['Marital_Status'] + formula[0]['PGIns'] + formula[0]['PGName2'] + formula[0]['PGPer3'] + formula[0]['PGSpec'] + formula[0]['Present_CTC'] + formula[0]['Prev_Desig'] + formula[0]['Prev_Empl'] + formula[0]['QName1'] + formula[0]['QPer2'] + formula[0]['QType1'] + formula[0]['Source_Name'] + formula[0]['Work_Ex']"
   ]
  },
  {
   "cell_type": "code",
   "execution_count": 28,
   "metadata": {},
   "outputs": [
    {
     "data": {
      "text/plain": [
       "1.00001000005"
      ]
     },
     "execution_count": 28,
     "metadata": {},
     "output_type": "execute_result"
    }
   ],
   "source": [
    "math.exp(1e-5)"
   ]
  },
  {
   "cell_type": "code",
   "execution_count": 18,
   "metadata": {},
   "outputs": [
    {
     "data": {
      "text/html": [
       "<div>\n",
       "<style scoped>\n",
       "    .dataframe tbody tr th:only-of-type {\n",
       "        vertical-align: middle;\n",
       "    }\n",
       "\n",
       "    .dataframe tbody tr th {\n",
       "        vertical-align: top;\n",
       "    }\n",
       "\n",
       "    .dataframe thead th {\n",
       "        text-align: right;\n",
       "    }\n",
       "</style>\n",
       "<table border=\"1\" class=\"dataframe\">\n",
       "  <thead>\n",
       "    <tr style=\"text-align: right;\">\n",
       "      <th></th>\n",
       "      <th>RID</th>\n",
       "      <th>Gender</th>\n",
       "      <th>Age</th>\n",
       "      <th>MartitalStatus</th>\n",
       "      <th>QName1</th>\n",
       "      <th>QType1</th>\n",
       "      <th>Qpercentage</th>\n",
       "      <th>PGName</th>\n",
       "      <th>PGSpecification</th>\n",
       "      <th>PGIns</th>\n",
       "      <th>PGPercentage</th>\n",
       "      <th>PreviousEmployer</th>\n",
       "      <th>PreviousDesignation</th>\n",
       "      <th>PresentCTC</th>\n",
       "      <th>WorkExperience</th>\n",
       "      <th>Industry</th>\n",
       "      <th>FunctionalArea</th>\n",
       "      <th>SourceName</th>\n",
       "      <th>IndentTitle</th>\n",
       "    </tr>\n",
       "  </thead>\n",
       "  <tbody>\n",
       "    <tr>\n",
       "      <th>0</th>\n",
       "      <td>8</td>\n",
       "      <td>Male</td>\n",
       "      <td>50</td>\n",
       "      <td>Single</td>\n",
       "      <td>Bachelor of Business Admin</td>\n",
       "      <td>Full Time</td>\n",
       "      <td>88.0</td>\n",
       "      <td>EPGPBM-PT</td>\n",
       "      <td>AVIONICS</td>\n",
       "      <td>? LOYOLA HIGH SCHOOL</td>\n",
       "      <td>67.0</td>\n",
       "      <td>ABN Amro Bank,Hongkong and Shanghai Banking</td>\n",
       "      <td>ACCOUNTS MANAGER</td>\n",
       "      <td>1000</td>\n",
       "      <td>3</td>\n",
       "      <td>IT Software</td>\n",
       "      <td>Administration</td>\n",
       "      <td>Lordisystems</td>\n",
       "      <td>BRANCH MANAGER</td>\n",
       "    </tr>\n",
       "    <tr>\n",
       "      <th>1</th>\n",
       "      <td>324</td>\n",
       "      <td>Female</td>\n",
       "      <td>32</td>\n",
       "      <td>Married</td>\n",
       "      <td>BBA</td>\n",
       "      <td>Unknown</td>\n",
       "      <td>89.0</td>\n",
       "      <td>Master of Business Admin</td>\n",
       "      <td>CIVIL</td>\n",
       "      <td>AC Anna Univ - Chennai</td>\n",
       "      <td>88.8</td>\n",
       "      <td>ACCOUNTANT EXCUCATIVE</td>\n",
       "      <td>RELATIONSHIP MANAGER</td>\n",
       "      <td>8000</td>\n",
       "      <td>2</td>\n",
       "      <td>Telecommunication</td>\n",
       "      <td>Application Programming-Java</td>\n",
       "      <td>IIM Jobs</td>\n",
       "      <td>Branch Manager - Comercial Baking</td>\n",
       "    </tr>\n",
       "    <tr>\n",
       "      <th>2</th>\n",
       "      <td>12</td>\n",
       "      <td>Unknown</td>\n",
       "      <td>56</td>\n",
       "      <td>Undisclosed</td>\n",
       "      <td>Bachelor of Arts</td>\n",
       "      <td>Part Time</td>\n",
       "      <td>49.0</td>\n",
       "      <td>ME</td>\n",
       "      <td>COMPUTER SOFTWARE MGMT</td>\n",
       "      <td>ACADEMIC QUALIFICATION</td>\n",
       "      <td>53.6</td>\n",
       "      <td>Ace Corporation</td>\n",
       "      <td>ACCOUNTS MANAGER</td>\n",
       "      <td>3434</td>\n",
       "      <td>5</td>\n",
       "      <td>Agriculture</td>\n",
       "      <td>BPO Voice Support</td>\n",
       "      <td>Web Posting</td>\n",
       "      <td>Branch Manager - Deputy Branch Manager</td>\n",
       "    </tr>\n",
       "    <tr>\n",
       "      <th>3</th>\n",
       "      <td>45</td>\n",
       "      <td>Male</td>\n",
       "      <td>77</td>\n",
       "      <td>Single</td>\n",
       "      <td>B.Tech</td>\n",
       "      <td>Unknown</td>\n",
       "      <td>8.8</td>\n",
       "      <td>MMEM</td>\n",
       "      <td>FINANCE</td>\n",
       "      <td>aicte itm busess school</td>\n",
       "      <td>90.0</td>\n",
       "      <td>ADARSH CREDIT CO OPERATIVE SOCIETY LTD</td>\n",
       "      <td>SALES MANAGER</td>\n",
       "      <td>56756</td>\n",
       "      <td>6</td>\n",
       "      <td>HealthCare</td>\n",
       "      <td>BRANCH BANKING</td>\n",
       "      <td>Employee Referral</td>\n",
       "      <td>CLUSTER BRANCH MANAGER</td>\n",
       "    </tr>\n",
       "    <tr>\n",
       "      <th>4</th>\n",
       "      <td>236</td>\n",
       "      <td>Female</td>\n",
       "      <td>45</td>\n",
       "      <td>Married</td>\n",
       "      <td>B.IT</td>\n",
       "      <td>Full Time</td>\n",
       "      <td>9.6</td>\n",
       "      <td>MSMKTG-FT</td>\n",
       "      <td>HR &amp; MARKETING</td>\n",
       "      <td>CA Rank Holder</td>\n",
       "      <td>7.7</td>\n",
       "      <td>?   Duration,STAR UNION DAICHI,FINO NATIONAL ...</td>\n",
       "      <td>NaN</td>\n",
       "      <td>52345</td>\n",
       "      <td>8</td>\n",
       "      <td>Petrochemicals</td>\n",
       "      <td>Brand Management</td>\n",
       "      <td>ICICI BANK</td>\n",
       "      <td>DEPUTY BRANCH MANAGER</td>\n",
       "    </tr>\n",
       "    <tr>\n",
       "      <th>5</th>\n",
       "      <td>237</td>\n",
       "      <td>Unknown</td>\n",
       "      <td>23</td>\n",
       "      <td>Undisclosed</td>\n",
       "      <td>B.B.A</td>\n",
       "      <td>Distance</td>\n",
       "      <td>99.0</td>\n",
       "      <td>PGDSM-FT</td>\n",
       "      <td>Human Resources</td>\n",
       "      <td>Chetana Inst, Mumbai</td>\n",
       "      <td>6.6</td>\n",
       "      <td>AXIS BANK Ltd,Reliance Mutual Fund, Haldwani ...</td>\n",
       "      <td>RELATIONSHIP MANAGER</td>\n",
       "      <td>87675</td>\n",
       "      <td>3</td>\n",
       "      <td>Shipping</td>\n",
       "      <td>BRANCH OPERATIONS</td>\n",
       "      <td>Sunrise Management Consultants</td>\n",
       "      <td>EGES - Branch Manager &amp; Branch Operational Man...</td>\n",
       "    </tr>\n",
       "    <tr>\n",
       "      <th>6</th>\n",
       "      <td>978</td>\n",
       "      <td>Male</td>\n",
       "      <td>94</td>\n",
       "      <td>Single</td>\n",
       "      <td>BACHELOR O</td>\n",
       "      <td>Full Time</td>\n",
       "      <td>78.0</td>\n",
       "      <td>PGPIT</td>\n",
       "      <td>INETRNATIONAL BUSINESS</td>\n",
       "      <td>CHITKARA UNIVERSITY</td>\n",
       "      <td>34.4</td>\n",
       "      <td>BANKING INSTITUTE</td>\n",
       "      <td>MANAGER</td>\n",
       "      <td>2344</td>\n",
       "      <td>8</td>\n",
       "      <td>Civil</td>\n",
       "      <td>Business Development</td>\n",
       "      <td>Successwrks HR Solutions Pvt Ltd</td>\n",
       "      <td>BRANCH MANAGER - WEALTH BRANCH</td>\n",
       "    </tr>\n",
       "    <tr>\n",
       "      <th>7</th>\n",
       "      <td>458</td>\n",
       "      <td>Female</td>\n",
       "      <td>66</td>\n",
       "      <td>Married</td>\n",
       "      <td>BALLB-F</td>\n",
       "      <td>Part Time</td>\n",
       "      <td>3.4</td>\n",
       "      <td>PGPMSM-FT</td>\n",
       "      <td>SALES</td>\n",
       "      <td>DIBRUGARH UNIVERSITY</td>\n",
       "      <td>9.8</td>\n",
       "      <td>BHARTI AIRTEL SERVICE LMTD</td>\n",
       "      <td>OTHERS</td>\n",
       "      <td>234324</td>\n",
       "      <td>3</td>\n",
       "      <td>BFSI (Other than banking)</td>\n",
       "      <td>Human Resource</td>\n",
       "      <td>HR Bells</td>\n",
       "      <td>Branch Manager/Testing</td>\n",
       "    </tr>\n",
       "  </tbody>\n",
       "</table>\n",
       "</div>"
      ],
      "text/plain": [
       "   RID   Gender  Age MartitalStatus                      QName1     QType1  \\\n",
       "0    8     Male   50         Single  Bachelor of Business Admin  Full Time   \n",
       "1  324   Female   32        Married                         BBA    Unknown   \n",
       "2   12  Unknown   56    Undisclosed            Bachelor of Arts  Part Time   \n",
       "3   45     Male   77         Single                      B.Tech    Unknown   \n",
       "4  236   Female   45        Married                        B.IT  Full Time   \n",
       "5  237  Unknown   23    Undisclosed                       B.B.A   Distance   \n",
       "6  978     Male   94         Single                  BACHELOR O  Full Time   \n",
       "7  458   Female   66        Married                     BALLB-F  Part Time   \n",
       "\n",
       "   Qpercentage                    PGName         PGSpecification  \\\n",
       "0         88.0                 EPGPBM-PT                AVIONICS   \n",
       "1         89.0  Master of Business Admin                   CIVIL   \n",
       "2         49.0                        ME  COMPUTER SOFTWARE MGMT   \n",
       "3          8.8                      MMEM                 FINANCE   \n",
       "4          9.6                 MSMKTG-FT          HR & MARKETING   \n",
       "5         99.0                  PGDSM-FT         Human Resources   \n",
       "6         78.0                     PGPIT  INETRNATIONAL BUSINESS   \n",
       "7          3.4                 PGPMSM-FT                   SALES   \n",
       "\n",
       "                     PGIns  PGPercentage  \\\n",
       "0     ? LOYOLA HIGH SCHOOL          67.0   \n",
       "1   AC Anna Univ - Chennai          88.8   \n",
       "2   ACADEMIC QUALIFICATION          53.6   \n",
       "3  aicte itm busess school          90.0   \n",
       "4           CA Rank Holder           7.7   \n",
       "5     Chetana Inst, Mumbai           6.6   \n",
       "6      CHITKARA UNIVERSITY          34.4   \n",
       "7     DIBRUGARH UNIVERSITY           9.8   \n",
       "\n",
       "                                    PreviousEmployer   PreviousDesignation  \\\n",
       "0       ABN Amro Bank,Hongkong and Shanghai Banking       ACCOUNTS MANAGER   \n",
       "1                              ACCOUNTANT EXCUCATIVE  RELATIONSHIP MANAGER   \n",
       "2                                    Ace Corporation      ACCOUNTS MANAGER   \n",
       "3             ADARSH CREDIT CO OPERATIVE SOCIETY LTD         SALES MANAGER   \n",
       "4   ?   Duration,STAR UNION DAICHI,FINO NATIONAL ...                   NaN   \n",
       "5   AXIS BANK Ltd,Reliance Mutual Fund, Haldwani ...  RELATIONSHIP MANAGER   \n",
       "6                                  BANKING INSTITUTE               MANAGER   \n",
       "7                         BHARTI AIRTEL SERVICE LMTD                OTHERS   \n",
       "\n",
       "   PresentCTC  WorkExperience                   Industry  \\\n",
       "0        1000               3                IT Software   \n",
       "1        8000               2          Telecommunication   \n",
       "2        3434               5                Agriculture   \n",
       "3       56756               6                 HealthCare   \n",
       "4       52345               8             Petrochemicals   \n",
       "5       87675               3                   Shipping   \n",
       "6        2344               8                      Civil   \n",
       "7      234324               3  BFSI (Other than banking)   \n",
       "\n",
       "                 FunctionalArea                        SourceName  \\\n",
       "0                Administration                      Lordisystems   \n",
       "1  Application Programming-Java                          IIM Jobs   \n",
       "2             BPO Voice Support                       Web Posting   \n",
       "3                BRANCH BANKING                 Employee Referral   \n",
       "4              Brand Management                        ICICI BANK   \n",
       "5             BRANCH OPERATIONS    Sunrise Management Consultants   \n",
       "6          Business Development  Successwrks HR Solutions Pvt Ltd   \n",
       "7                Human Resource                          HR Bells   \n",
       "\n",
       "                                         IndentTitle  \n",
       "0                                     BRANCH MANAGER  \n",
       "1                  Branch Manager - Comercial Baking  \n",
       "2             Branch Manager - Deputy Branch Manager  \n",
       "3                             CLUSTER BRANCH MANAGER  \n",
       "4                              DEPUTY BRANCH MANAGER  \n",
       "5  EGES - Branch Manager & Branch Operational Man...  \n",
       "6                     BRANCH MANAGER - WEALTH BRANCH  \n",
       "7                             Branch Manager/Testing  "
      ]
     },
     "execution_count": 18,
     "metadata": {},
     "output_type": "execute_result"
    }
   ],
   "source": [
    "sample_data"
   ]
  },
  {
   "cell_type": "code",
   "execution_count": 29,
   "metadata": {},
   "outputs": [],
   "source": [
    "first = sample_data.iloc[4]"
   ]
  },
  {
   "cell_type": "code",
   "execution_count": 30,
   "metadata": {},
   "outputs": [
    {
     "data": {
      "text/plain": [
       "RID                                                                  236\n",
       "Gender                                                            Female\n",
       "Age                                                                   45\n",
       "MartitalStatus                                                   Married\n",
       "QName1                                                              B.IT\n",
       "QType1                                                         Full Time\n",
       "Qpercentage                                                          9.6\n",
       "PGName                                                         MSMKTG-FT\n",
       "PGSpecification                                           HR & MARKETING\n",
       "PGIns                                                     CA Rank Holder\n",
       "PGPercentage                                                         7.7\n",
       "PreviousEmployer        ?   Duration,STAR UNION DAICHI,FINO NATIONAL ...\n",
       "PreviousDesignation                                                     \n",
       "PresentCTC                                                         52345\n",
       "WorkExperience                                                         8\n",
       "Industry                                                  Petrochemicals\n",
       "FunctionalArea                                          Brand Management\n",
       "SourceName                                                    ICICI BANK\n",
       "IndentTitle                                        DEPUTY BRANCH MANAGER\n",
       "Name: 4, dtype: object"
      ]
     },
     "execution_count": 30,
     "metadata": {},
     "output_type": "execute_result"
    }
   ],
   "source": [
    "first"
   ]
  },
  {
   "cell_type": "code",
   "execution_count": 33,
   "metadata": {},
   "outputs": [],
   "source": [
    "    rid = {};\n",
    "    rid['RID'] = first.RID\n",
    "    rid['QName1_Class'] = QName[QName['QName1'].str.strip() == first.QName1.strip()]['QName1_Class'].item().encode(\"utf-8\") if len(QName[QName['QName1'].str.strip() == first.QName1.strip()]['QName1_Class']) > 0 else \"NO_INFO\"\n",
    "    rid['PGName2_Class'] = PGName[PGName['PGName2'].str.strip() == first.PGName.strip()]['PGName2_Class'].item().encode(\"utf-8\") if len(PGName[PGName['PGName2'].str.strip() == first.PGName.strip()]['PGName2_Class']) > 0 else \"NO_INFO\"\n",
    "    rid['PGSpec_Class'] = PGSpec[PGSpec['PGSpec'].str.strip() == first.PGSpecification.strip()]['PGSpec_Class'].item().encode(\"utf-8\") if len(PGSpec[PGSpec['PGSpec'].str.strip() == first.PGSpecification.strip()]['PGSpec_Class']) > 0 else \"NO_INFO\"\n",
    "    rid['PGIns_Class'] = PGIns[PGIns['PGIns2 / PGUni2'].str.strip() == first.PGIns.strip()]['PGIns_Class'].item().encode(\"utf-8\") if len(PGIns[PGIns['PGIns2 / PGUni2'].str.strip() == first.PGIns.strip()]['PGIns_Class']) > 0  else \"NO_INFO\"\n",
    "    rid['Prev_Empl_Class'] = PreviousEmp[PreviousEmp['Previous Employer'].str.strip() == first.PreviousEmployer.strip()]['Prev_Empl_Class'].item().encode(\"utf-8\") if len(PreviousEmp[PreviousEmp['Previous Employer'].str.strip() == first.PreviousEmployer.strip()]['Prev_Empl_Class']) > 0  else \"NO_INFO\"\n",
    "    rid['Prev_Desig_Class'] = PreviousDesignation[PreviousDesignation['Previous Designation'].str.strip() == first.PreviousDesignation.strip()]['Prev_Desig_Class'].item().encode(\"utf-8\") if len(PreviousDesignation[PreviousDesignation['Previous Designation'].str.strip() == first.PreviousDesignation.strip()]['Prev_Desig_Class']) > 0 else \"NO_INFO\"\n",
    "    rid['Industry_Class'] = Industry[Industry['Industry'].str.strip() == first.Industry.strip()]['Industry_Class'].item().encode(\"utf-8\") if len(Industry[Industry['Industry'].str.strip() == first.Industry.strip()]['Industry_Class']) > 0 else \"NO_INFO\"\n",
    "    rid['Function_Class'] = FunctionArea[FunctionArea['Functional_Area'].str.strip() ==  first.FunctionalArea.strip()]['Function_Class'].item().encode(\"utf-8\") if len(FunctionArea[FunctionArea['Functional_Area'].str.strip() ==  first.FunctionalArea.strip()]['Function_Class']) > 0 else \"UNKNOWN\"\n",
    "    rid['Source_Name'] = SourceName[SourceName['Source TAG'].str.strip() == first.SourceName.strip()]['Source Name'].item().encode(\"utf-8\") if  len(SourceName[SourceName['Source TAG'].str.strip() == first.SourceName.strip()]['Source Name']) > 0 else \"UNKNOWN\"\n",
    "    rid['Title_Class'] = IndentRequirment[IndentRequirment['Indent Title'].str.strip() == first.IndentTitle.strip()]['Title_Class'].item().encode(\"utf-8\") if len(IndentRequirment[IndentRequirment['Indent Title'].str.strip() == first.IndentTitle.strip()]['Title_Class']) > 0 else \"UNKNOWN\"\n",
    "    rid['Gender'] = first.Gender.encode(\"utf-8\")\n",
    "    rid['Age'] = first.Age\n",
    "    rid['Marital_Status'] = first.MartitalStatus.encode(\"utf-8\")\n",
    "    rid['QType1'] = first.QType1.encode(\"utf-8\")\n",
    "    rid['QPer2'] = first.Qpercentage\n",
    "    rid['PGPer3'] = first.PGPercentage\n",
    "    rid['Present_CTC'] = first.PresentCTC\n",
    "    rid['Work_Ex'] = first.WorkExperience"
   ]
  },
  {
   "cell_type": "code",
   "execution_count": 27,
   "metadata": {},
   "outputs": [
    {
     "data": {
      "text/plain": [
       "1"
      ]
     },
     "execution_count": 27,
     "metadata": {},
     "output_type": "execute_result"
    }
   ],
   "source": [
    "len(PGIns[PGIns['PGIns2 / PGUni2'].str.strip() == first.PGIns.strip()]['PGIns_Class'])"
   ]
  },
  {
   "cell_type": "code",
   "execution_count": 34,
   "metadata": {},
   "outputs": [
    {
     "data": {
      "text/plain": [
       "{'Age': 45,\n",
       " 'Function_Class': 'MARKETING',\n",
       " 'Gender': 'Female',\n",
       " 'Industry_Class': 'FMCG',\n",
       " 'Marital_Status': 'Married',\n",
       " 'PGIns_Class': 'TIER_1',\n",
       " 'PGName2_Class': 'MANAGEMENT',\n",
       " 'PGPer3': 7.7,\n",
       " 'PGSpec_Class': 'MANAGEMENT',\n",
       " 'Present_CTC': 52345,\n",
       " 'Prev_Desig_Class': 'NO_INFO',\n",
       " 'Prev_Empl_Class': 'BANKING/BFSI',\n",
       " 'QName1_Class': 'IT',\n",
       " 'QPer2': 9.6,\n",
       " 'QType1': 'Full Time',\n",
       " 'RID': 236,\n",
       " 'Source_Name': 'ICICI Careers',\n",
       " 'Title_Class': 'DBM',\n",
       " 'Work_Ex': 8}"
      ]
     },
     "execution_count": 34,
     "metadata": {},
     "output_type": "execute_result"
    }
   ],
   "source": [
    "rid"
   ]
  },
  {
   "cell_type": "code",
   "execution_count": null,
   "metadata": {},
   "outputs": [],
   "source": []
  }
 ],
 "metadata": {
  "kernelspec": {
   "display_name": "Python 2",
   "language": "python",
   "name": "python2"
  },
  "language_info": {
   "codemirror_mode": {
    "name": "ipython",
    "version": 2
   },
   "file_extension": ".py",
   "mimetype": "text/x-python",
   "name": "python",
   "nbconvert_exporter": "python",
   "pygments_lexer": "ipython2",
   "version": "2.7.13"
  }
 },
 "nbformat": 4,
 "nbformat_minor": 2
}
