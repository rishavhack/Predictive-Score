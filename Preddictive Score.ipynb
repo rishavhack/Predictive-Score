{
 "cells": [
  {
   "cell_type": "code",
   "execution_count": 1,
   "metadata": {},
   "outputs": [],
   "source": [
    "import numpy as np"
   ]
  },
  {
   "cell_type": "code",
   "execution_count": 2,
   "metadata": {},
   "outputs": [],
   "source": [
    "import pandas as pd"
   ]
  },
  {
   "cell_type": "code",
   "execution_count": 3,
   "metadata": {},
   "outputs": [],
   "source": [
    "import math"
   ]
  },
  {
   "cell_type": "code",
   "execution_count": 4,
   "metadata": {},
   "outputs": [],
   "source": [
    "stageAndstatus = pd.read_excel(\"Predictive Score Doc/Xlsx/stage&status.xlsx\")"
   ]
  },
  {
   "cell_type": "code",
   "execution_count": 5,
   "metadata": {},
   "outputs": [],
   "source": [
    "QName = pd.read_excel(\"Predictive Score Doc/Xlsx/QName.xlsx\")"
   ]
  },
  {
   "cell_type": "code",
   "execution_count": 6,
   "metadata": {},
   "outputs": [],
   "source": [
    "PGName = pd.read_excel(\"Predictive Score Doc/Xlsx/PGName.xlsx\")"
   ]
  },
  {
   "cell_type": "code",
   "execution_count": 7,
   "metadata": {},
   "outputs": [],
   "source": [
    "PGSpec = pd.read_excel(\"Predictive Score Doc/Xlsx/PGSpec.xlsx\")"
   ]
  },
  {
   "cell_type": "code",
   "execution_count": 8,
   "metadata": {},
   "outputs": [],
   "source": [
    "PGIns = pd.read_excel(\"Predictive Score Doc/Xlsx/PGIns.xlsx\")"
   ]
  },
  {
   "cell_type": "code",
   "execution_count": 9,
   "metadata": {},
   "outputs": [],
   "source": [
    "PreviousEmp = pd.read_excel(\"Predictive Score Doc/Xlsx/PreviousEmp.xlsx\")"
   ]
  },
  {
   "cell_type": "code",
   "execution_count": 10,
   "metadata": {},
   "outputs": [],
   "source": [
    "PreviousDesignation = pd.read_excel(\"Predictive Score Doc/Xlsx/PreviousDesignation.xlsx\")"
   ]
  },
  {
   "cell_type": "code",
   "execution_count": 11,
   "metadata": {},
   "outputs": [],
   "source": [
    "Industry = pd.read_excel(\"Predictive Score Doc/Xlsx/Industry.xlsx\")"
   ]
  },
  {
   "cell_type": "code",
   "execution_count": 12,
   "metadata": {},
   "outputs": [],
   "source": [
    "FunctionArea = pd.read_excel(\"Predictive Score Doc/Xlsx/FunctionArea.xlsx\")"
   ]
  },
  {
   "cell_type": "code",
   "execution_count": 13,
   "metadata": {},
   "outputs": [],
   "source": [
    "IndentRequirment = pd.read_excel(\"Predictive Score Doc/Xlsx/IndentRequirment.xlsx\")"
   ]
  },
  {
   "cell_type": "code",
   "execution_count": 14,
   "metadata": {},
   "outputs": [],
   "source": [
    "SourceName = pd.read_excel(\"Predictive Score Doc/Xlsx/SourceName.xlsx\")"
   ]
  },
  {
   "cell_type": "code",
   "execution_count": 15,
   "metadata": {},
   "outputs": [],
   "source": [
    "Low_pop = pd.read_csv(\"Predictive Score Doc/Low_Pop/cat_map_tab_BM_DBM_model.csv\")"
   ]
  },
  {
   "cell_type": "code",
   "execution_count": 16,
   "metadata": {},
   "outputs": [],
   "source": [
    "BM = pd.read_excel(\"Predictive Score Doc/pred_Score/BM.xlsx\")"
   ]
  },
  {
   "cell_type": "code",
   "execution_count": 17,
   "metadata": {},
   "outputs": [],
   "source": [
    "DBM = pd.read_excel(\"Predictive Score Doc/pred_Score/DBM.xlsx\")"
   ]
  },
  {
   "cell_type": "code",
   "execution_count": 18,
   "metadata": {},
   "outputs": [],
   "source": [
    "sample_data = pd.read_excel(\"sample - Copy.xlsx\")\n",
    "allCandidate = []"
   ]
  },
  {
   "cell_type": "code",
   "execution_count": 19,
   "metadata": {},
   "outputs": [],
   "source": [
    "sample_data = sample_data.replace(np.nan, '', regex=True)"
   ]
  },
  {
   "cell_type": "code",
   "execution_count": 20,
   "metadata": {},
   "outputs": [],
   "source": [
    "for i in range(0,sample_data.last_valid_index()):\n",
    "    rid = {};\n",
    "    rid['RID'] = sample_data.iloc[i].RID\n",
    "    rid['QName1_Class'] = QName[QName['QName1'].str.strip() == sample_data.iloc[i].QName1.strip()]['QName1_Class'].item().encode(\"utf-8\") if len(QName[QName['QName1'].str.strip() == sample_data.iloc[i].QName1.strip()]['QName1_Class']) > 0 else \"NO_INFO\"\n",
    "    rid['PGName2_Class'] = PGName[PGName['PGName2'].str.strip() == sample_data.iloc[i].PGName.strip()]['PGName2_Class'].item().encode(\"utf-8\") if len(PGName[PGName['PGName2'].str.strip() == sample_data.iloc[i].PGName.strip()]['PGName2_Class']) > 0 else \"NO_INFO\"\n",
    "    rid['PGSpec_Class'] = PGSpec[PGSpec['PGSpec'].str.strip() == sample_data.iloc[i].PGSpecification.strip()]['PGSpec_Class'].item().encode(\"utf-8\") if len(PGSpec[PGSpec['PGSpec'].str.strip() == sample_data.iloc[i].PGSpecification.strip()]['PGSpec_Class']) > 0 else \"NO_INFO\"\n",
    "    rid['PGIns_Class'] = PGIns[PGIns['PGIns2 / PGUni2'].str.strip() == sample_data.iloc[i].PGIns.strip()]['PGIns_Class'].item().encode(\"utf-8\") if len(PGIns[PGIns['PGIns2 / PGUni2'].str.strip() == sample_data.iloc[i].PGIns.strip()]['PGIns_Class']) > 0  else \"NO_INFO\"\n",
    "    rid['Prev_Empl_Class'] = PreviousEmp[PreviousEmp['Previous Employer'].str.strip() == sample_data.iloc[i].PreviousEmployer.strip()]['Prev_Empl_Class'].item().encode(\"utf-8\") if len(PreviousEmp[PreviousEmp['Previous Employer'].str.strip() == sample_data.iloc[i].PreviousEmployer.strip()]['Prev_Empl_Class']) > 0  else \"NO_INFO\"\n",
    "    rid['Prev_Desig_Class'] = PreviousDesignation[PreviousDesignation['Previous Designation'].str.strip() == sample_data.iloc[i].PreviousDesignation.strip()]['Prev_Desig_Class'].item().encode(\"utf-8\") if len(PreviousDesignation[PreviousDesignation['Previous Designation'].str.strip() == sample_data.iloc[i].PreviousDesignation.strip()]['Prev_Desig_Class']) > 0 else \"NO_INFO\"\n",
    "    rid['Industry_Class'] = Industry[Industry['Industry'].str.strip() == sample_data.iloc[i].Industry.strip()]['Industry_Class'].item().encode(\"utf-8\") if len(Industry[Industry['Industry'].str.strip() == sample_data.iloc[i].Industry.strip()]['Industry_Class']) > 0 else \"NO_INFO\"\n",
    "    rid['Function_Class'] = FunctionArea[FunctionArea['Functional_Area'].str.strip() ==  sample_data.iloc[i].FunctionalArea.strip()]['Function_Class'].item().encode(\"utf-8\") if len(FunctionArea[FunctionArea['Functional_Area'].str.strip() ==  sample_data.iloc[i].FunctionalArea.strip()]['Function_Class']) > 0 else \"UNKNOWN\"\n",
    "    rid['Source_Name'] = SourceName[SourceName['Source TAG'].str.strip() == sample_data.iloc[i].SourceName.strip()]['Source Name'].item().encode(\"utf-8\") if  len(SourceName[SourceName['Source TAG'].str.strip() == sample_data.iloc[i].SourceName.strip()]['Source Name']) > 0 else \"UNKNOWN\"\n",
    "    rid['Title_Class'] = IndentRequirment[IndentRequirment['Indent Title'].str.strip() == sample_data.iloc[i].IndentTitle.strip()]['Title_Class'].item().encode(\"utf-8\") if len(IndentRequirment[IndentRequirment['Indent Title'].str.strip() == sample_data.iloc[i].IndentTitle.strip()]['Title_Class']) > 0 else \"UNKNOWN\"\n",
    "    rid['Gender'] = sample_data.iloc[i].Gender.encode(\"utf-8\")\n",
    "    rid['Age'] = sample_data.iloc[i].Age\n",
    "    rid['Marital_Status'] = sample_data.iloc[i].MartitalStatus.encode(\"utf-8\")\n",
    "    rid['QType1'] = sample_data.iloc[i].QType1.encode(\"utf-8\")\n",
    "    rid['QPer2'] = sample_data.iloc[i].Qpercentage\n",
    "    rid['PGPer3'] = sample_data.iloc[i].PGPercentage\n",
    "    rid['Present_CTC'] = sample_data.iloc[i].PresentCTC\n",
    "    rid['Work_Ex'] = sample_data.iloc[i].WorkExperience\n",
    "    allCandidate.append(rid)\n",
    "    "
   ]
  },
  {
   "cell_type": "raw",
   "metadata": {},
   "source": [
    "allCandidate"
   ]
  },
  {
   "cell_type": "code",
   "execution_count": null,
   "metadata": {},
   "outputs": [],
   "source": []
  },
  {
   "cell_type": "code",
   "execution_count": null,
   "metadata": {},
   "outputs": [],
   "source": []
  },
  {
   "cell_type": "code",
   "execution_count": null,
   "metadata": {},
   "outputs": [],
   "source": []
  },
  {
   "cell_type": "code",
   "execution_count": 21,
   "metadata": {},
   "outputs": [],
   "source": [
    "hack = [];\n",
    "for i in range(0,len(allCandidate)):\n",
    "    pdScore = {}\n",
    "    pdScore['RID'] = allCandidate[i]['RID']\n",
    "    pdScore['QPer2'] = allCandidate[i]['QPer2']\n",
    "    pdScore['PGPer3'] = allCandidate[i]['PGPer3']\n",
    "    pdScore['Present_CTC'] = allCandidate[i]['Present_CTC']\n",
    "    pdScore['Work_Ex'] = allCandidate[i]['Work_Ex']\n",
    "    x = Low_pop[Low_pop['Variable_name'] == 'Gender']\n",
    "    pdScore['Gender']= x[x['Category'] == allCandidate[i]['Gender']]['New_category'].item()\n",
    "    x = Low_pop[Low_pop['Variable_name'] == 'Marital_Status']\n",
    "    pdScore['Marital_Status']= x[x['Category'] == allCandidate[i]['Marital_Status']]['New_category'].item()\n",
    "    x = Low_pop[Low_pop['Variable_name'] == 'QName1_Class']\n",
    "    pdScore['QName1']= x[x['Category'] == allCandidate[i]['QName1_Class']]['New_category'].item()\n",
    "    x = Low_pop[Low_pop['Variable_name'] == 'QType1']\n",
    "    pdScore['QType1']= x[x['Category'] == allCandidate[i]['QType1']]['New_category'].item()\n",
    "    x = Low_pop[Low_pop['Variable_name'] == 'PGName2_Class']\n",
    "    pdScore['PGName2']= x[x['Category'] == allCandidate[i]['PGName2_Class']]['New_category'].item()\n",
    "    x = Low_pop[Low_pop['Variable_name'] == 'PGSpec_Class']\n",
    "    pdScore['PGSpec']= x[x['Category'] == allCandidate[i]['PGSpec_Class']]['New_category'].item()\n",
    "    x = Low_pop[Low_pop['Variable_name'] == 'PGIns_Class']\n",
    "    pdScore['PGIns']= x[x['Category'] == allCandidate[i]['PGIns_Class']]['New_category'].item()\n",
    "    x = Low_pop[Low_pop['Variable_name'] == 'Prev_Empl_Class']\n",
    "    pdScore['Prev_Empl']= x[x['Category'] == allCandidate[i]['Prev_Empl_Class']]['New_category'].item()\n",
    "    x = Low_pop[Low_pop['Variable_name'] == 'Prev_Desig_Class']\n",
    "    pdScore['Prev_Desig']= x[x['Category'] == allCandidate[i]['Prev_Desig_Class']]['New_category'].item()\n",
    "    x = Low_pop[Low_pop['Variable_name'] == 'Industry_Class']\n",
    "    pdScore['Industry']= x[x['Category'] == allCandidate[i]['Industry_Class']]['New_category'].item()\n",
    "    x = Low_pop[Low_pop['Variable_name'] == 'Function_Class']\n",
    "    pdScore['Function']= x[x['Category'] == allCandidate[i]['Function_Class']]['New_category'].item()\n",
    "    x = Low_pop[Low_pop['Variable_name'] == 'Source_Name']\n",
    "    pdScore['Source_Name']= x[x['Category'] == allCandidate[i]['Source_Name']]['New_category'].item()\n",
    "    x = Low_pop[Low_pop['Variable_name'] == 'Title_Class']\n",
    "    pdScore['Title']= x[x['Category'] == allCandidate[i]['Title_Class']]['New_category'].item()\n",
    "    pdScore['Age'] = allCandidate[i]['Age']\n",
    "    hack.append(pdScore)"
   ]
  },
  {
   "cell_type": "code",
   "execution_count": null,
   "metadata": {},
   "outputs": [],
   "source": []
  },
  {
   "cell_type": "code",
   "execution_count": 22,
   "metadata": {},
   "outputs": [],
   "source": [
    "formula = []\n",
    "for i in range(0,len(hack)):\n",
    "    if(hack[i]['Title'] == 'BM'):\n",
    "        predScore = {}\n",
    "        y = BM[BM['Variable'] == 'Function']\n",
    "        predScore['Function'] = y[y['Class'] == hack[i]['Function']]['Estimate'].item()\n",
    "        y = BM[BM['Variable'] == 'Gender']\n",
    "        predScore['Gender'] = y[y['Class'] == hack[i]['Gender']]['Estimate'].item()\n",
    "        y = BM[BM['Variable'] == 'Industry']\n",
    "        predScore['Industry'] = y[y['Class'] == hack[i]['Industry']]['Estimate'].item()\n",
    "        y = BM[BM['Variable'] == 'Marital_Status']\n",
    "        predScore['Marital_Status'] = y[y['Class'] == hack[i]['Marital_Status']]['Estimate'].item()\n",
    "        y = BM[BM['Variable'] == 'PGIns']\n",
    "        predScore['PGIns'] = y[y['Class'] == hack[i]['PGIns']]['Estimate'].item()\n",
    "        y = BM[BM['Variable'] == 'PGName2']\n",
    "        predScore['PGName2'] = y[y['Class'] == hack[i]['PGName2']]['Estimate'].item()\n",
    "        y = BM[BM['Variable'] == 'PGSpec']\n",
    "        predScore['PGSpec'] = y[y['Class'] == hack[i]['PGSpec']]['Estimate'].item()\n",
    "        y = BM[BM['Variable'] == 'Prev_Desig']\n",
    "        predScore['Prev_Desig'] = y[y['Class'] == hack[i]['Prev_Desig']]['Estimate'].item()\n",
    "        y = BM[BM['Variable'] == 'Prev_Empl']\n",
    "        predScore['Prev_Empl'] = y[y['Class'] == hack[i]['Prev_Empl']]['Estimate'].item()\n",
    "        y = BM[BM['Variable'] == 'QName1']\n",
    "        predScore['QName1'] = y[y['Class'] == hack[i]['QName1']]['Estimate'].item()\n",
    "        y = BM[BM['Variable'] == 'QType1']\n",
    "        predScore['QType1'] = y[y['Class'] == hack[i]['QType1']]['Estimate'].item()\n",
    "        y = BM[BM['Variable'] == 'Source_Name']\n",
    "        predScore['Source_Name'] = y[y['Class'] == hack[i]['Source_Name']]['Estimate'].item()\n",
    "        predScore['Age'] = hack[i]['Age'] * -0.04243;\n",
    "        predScore['QPer2'] = hack[i]['QPer2'] * -0.01251;\n",
    "        predScore['PGPer3'] = hack[i]['PGPer3'] * 0.01125;\n",
    "        predScore['Present_CTC'] = hack[i]['Present_CTC'] * -0.000001902;\n",
    "        predScore['Work_Ex'] = hack[i]['Work_Ex'] * -0.02372;\n",
    "        predScore['Intercept'] = 4.021;\n",
    "        predScore['RID'] = hack[i]['RID']\n",
    "        predScore['SUM'] = predScore['Age'] + predScore['Function'] + predScore['Gender'] + predScore['Industry'] + predScore['Intercept'] + predScore['Marital_Status'] + predScore['PGIns'] + predScore['PGName2'] + predScore['PGPer3'] + predScore['PGSpec'] + predScore['Present_CTC'] + predScore['Prev_Desig'] + predScore['Prev_Empl'] + predScore['QName1'] + predScore['QPer2'] + predScore['QType1'] + predScore['Source_Name'] + predScore['Work_Ex']\n",
    "        predScore['PredictedProbability'] = 1 / (1+(math.exp(predScore['SUM'] * -1)))\n",
    "        predScore['Score'] = predScore['PredictedProbability'] * 100\n",
    "        formula.append(predScore)"
   ]
  },
  {
   "cell_type": "code",
   "execution_count": 29,
   "metadata": {},
   "outputs": [
    {
     "data": {
      "text/plain": [
       "[{'Age': -1.31533,\n",
       "  'Function': -0.5555,\n",
       "  'Gender': 1.003,\n",
       "  'Industry': -0.09939,\n",
       "  'Intercept': 4.021,\n",
       "  'Marital_Status': 0.0,\n",
       "  'PGIns': 0.4101,\n",
       "  'PGName2': 1.601,\n",
       "  'PGPer3': 0.63,\n",
       "  'PGSpec': -0.6315,\n",
       "  'PredictedProbability': 0.955388162748366,\n",
       "  'Present_CTC': -2.0922e-05,\n",
       "  'Prev_Desig': 0.7345,\n",
       "  'Prev_Empl': -1.894,\n",
       "  'QName1': 0.0,\n",
       "  'QPer2': -0.649269,\n",
       "  'QType1': 0.0,\n",
       "  'RID': 88,\n",
       "  'SUM': 3.0641184779999993,\n",
       "  'Score': 95.5388162748366,\n",
       "  'Source_Name': 0.0,\n",
       "  'Work_Ex': -0.1904716},\n",
       " {'Age': -2.1215,\n",
       "  'Function': -0.5555,\n",
       "  'Gender': 1.003,\n",
       "  'Industry': -13.61,\n",
       "  'Intercept': 4.021,\n",
       "  'Marital_Status': -0.7611,\n",
       "  'PGIns': 0.0,\n",
       "  'PGName2': 0.0,\n",
       "  'PGPer3': 0.7537499999999999,\n",
       "  'PGSpec': 0.3557,\n",
       "  'PredictedProbability': 6.014736511376206e-06,\n",
       "  'Present_CTC': -0.001902,\n",
       "  'Prev_Desig': 0.1737,\n",
       "  'Prev_Empl': 0.0,\n",
       "  'QName1': -0.1064,\n",
       "  'QPer2': -1.10088,\n",
       "  'QType1': 0.0,\n",
       "  'RID': 8,\n",
       "  'SUM': -12.021291999999999,\n",
       "  'Score': 0.0006014736511376205,\n",
       "  'Source_Name': 0.0,\n",
       "  'Work_Ex': -0.07116},\n",
       " {'Age': -1.35776,\n",
       "  'Function': 0.3491,\n",
       "  'Gender': 0.0,\n",
       "  'Industry': -13.61,\n",
       "  'Intercept': 4.021,\n",
       "  'Marital_Status': 0.0,\n",
       "  'PGIns': 0.4101,\n",
       "  'PGName2': 1.601,\n",
       "  'PGPer3': 0.9989999999999999,\n",
       "  'PGSpec': 0.3557,\n",
       "  'PredictedProbability': 1.6801832717280824e-06,\n",
       "  'Present_CTC': -0.015216,\n",
       "  'Prev_Desig': 0.1737,\n",
       "  'Prev_Empl': -1.66,\n",
       "  'QName1': -0.1064,\n",
       "  'QPer2': -1.11339,\n",
       "  'QType1': -0.518,\n",
       "  'RID': 324,\n",
       "  'SUM': -13.296606000000004,\n",
       "  'Score': 0.00016801832717280824,\n",
       "  'Source_Name': -2.778,\n",
       "  'Work_Ex': -0.04744},\n",
       " {'Age': -0.97589,\n",
       "  'Function': -0.5555,\n",
       "  'Gender': 5.66,\n",
       "  'Industry': -13.61,\n",
       "  'Intercept': 4.021,\n",
       "  'Marital_Status': -1.525,\n",
       "  'PGIns': 0.0,\n",
       "  'PGName2': 0.0,\n",
       "  'PGPer3': 0.07425,\n",
       "  'PGSpec': -0.6315,\n",
       "  'PredictedProbability': 8.135980417565767e-05,\n",
       "  'Present_CTC': -0.16675784999999999,\n",
       "  'Prev_Desig': 0.1737,\n",
       "  'Prev_Empl': 0.0,\n",
       "  'QName1': -0.1064,\n",
       "  'QPer2': -1.23849,\n",
       "  'QType1': -0.4648,\n",
       "  'RID': 237,\n",
       "  'SUM': -9.416547849999999,\n",
       "  'Score': 0.008135980417565768,\n",
       "  'Source_Name': 0.0,\n",
       "  'Work_Ex': -0.07116},\n",
       " {'Age': -3.98842,\n",
       "  'Function': -0.01399,\n",
       "  'Gender': 1.003,\n",
       "  'Industry': -13.61,\n",
       "  'Intercept': 4.021,\n",
       "  'Marital_Status': -0.7611,\n",
       "  'PGIns': 0.0186,\n",
       "  'PGName2': 0.0,\n",
       "  'PGPer3': 0.38699999999999996,\n",
       "  'PGSpec': -0.6315,\n",
       "  'PredictedProbability': 7.286961346748586e-07,\n",
       "  'Present_CTC': -0.0044582879999999995,\n",
       "  'Prev_Desig': 0.4248,\n",
       "  'Prev_Empl': 0.295,\n",
       "  'QName1': -0.1064,\n",
       "  'QPer2': -0.97578,\n",
       "  'QType1': 0.0,\n",
       "  'RID': 978,\n",
       "  'SUM': -14.132008288000003,\n",
       "  'Score': 7.286961346748586e-05,\n",
       "  'Source_Name': 0.0,\n",
       "  'Work_Ex': -0.18976}]"
      ]
     },
     "execution_count": 29,
     "metadata": {},
     "output_type": "execute_result"
    }
   ],
   "source": [
    "formula"
   ]
  },
  {
   "cell_type": "code",
   "execution_count": 31,
   "metadata": {},
   "outputs": [],
   "source": [
    "result= [] "
   ]
  },
  {
   "cell_type": "code",
   "execution_count": 32,
   "metadata": {},
   "outputs": [],
   "source": [
    "for i in range(0,len(formula)):\n",
    "    obj = {}\n",
    "    obj['rid'] = formula[i]['RID']\n",
    "    obj['PredictedProbability'] = formula[i]['PredictedProbability']\n",
    "    obj['Score'] = formula[i]['Score']\n",
    "    result.append(obj)"
   ]
  },
  {
   "cell_type": "code",
   "execution_count": 33,
   "metadata": {},
   "outputs": [
    {
     "data": {
      "text/plain": [
       "[{'PredictedProbability': 0.955388162748366,\n",
       "  'Score': 95.5388162748366,\n",
       "  'rid': 88},\n",
       " {'PredictedProbability': 6.014736511376206e-06,\n",
       "  'Score': 0.0006014736511376205,\n",
       "  'rid': 8},\n",
       " {'PredictedProbability': 1.6801832717280824e-06,\n",
       "  'Score': 0.00016801832717280824,\n",
       "  'rid': 324},\n",
       " {'PredictedProbability': 8.135980417565767e-05,\n",
       "  'Score': 0.008135980417565768,\n",
       "  'rid': 237},\n",
       " {'PredictedProbability': 7.286961346748586e-07,\n",
       "  'Score': 7.286961346748586e-05,\n",
       "  'rid': 978}]"
      ]
     },
     "execution_count": 33,
     "metadata": {},
     "output_type": "execute_result"
    }
   ],
   "source": [
    "result"
   ]
  },
  {
   "cell_type": "code",
   "execution_count": null,
   "metadata": {},
   "outputs": [],
   "source": []
  },
  {
   "cell_type": "code",
   "execution_count": null,
   "metadata": {},
   "outputs": [],
   "source": []
  },
  {
   "cell_type": "code",
   "execution_count": 30,
   "metadata": {},
   "outputs": [],
   "source": []
  },
  {
   "cell_type": "code",
   "execution_count": null,
   "metadata": {},
   "outputs": [],
   "source": []
  },
  {
   "cell_type": "code",
   "execution_count": null,
   "metadata": {},
   "outputs": [],
   "source": []
  },
  {
   "cell_type": "code",
   "execution_count": null,
   "metadata": {},
   "outputs": [],
   "source": []
  }
 ],
 "metadata": {
  "kernelspec": {
   "display_name": "Python 2",
   "language": "python",
   "name": "python2"
  },
  "language_info": {
   "codemirror_mode": {
    "name": "ipython",
    "version": 2
   },
   "file_extension": ".py",
   "mimetype": "text/x-python",
   "name": "python",
   "nbconvert_exporter": "python",
   "pygments_lexer": "ipython2",
   "version": "2.7.13"
  }
 },
 "nbformat": 4,
 "nbformat_minor": 2
}
