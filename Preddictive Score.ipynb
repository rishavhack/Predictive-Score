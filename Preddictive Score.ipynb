{
 "cells": [
  {
   "cell_type": "code",
   "execution_count": 31,
   "metadata": {},
   "outputs": [],
   "source": [
    "import numpy as np"
   ]
  },
  {
   "cell_type": "code",
   "execution_count": 32,
   "metadata": {},
   "outputs": [],
   "source": [
    "import pandas as pd"
   ]
  },
  {
   "cell_type": "code",
   "execution_count": 33,
   "metadata": {},
   "outputs": [],
   "source": [
    "stageAndstatus = pd.read_excel(\"Predictive Score Doc\\Xlsx\\stage&status.xlsx\")"
   ]
  },
  {
   "cell_type": "code",
   "execution_count": 34,
   "metadata": {},
   "outputs": [],
   "source": [
    "QName = pd.read_excel(\"Predictive Score Doc\\Xlsx\\QName.xlsx\")"
   ]
  },
  {
   "cell_type": "code",
   "execution_count": 35,
   "metadata": {},
   "outputs": [],
   "source": [
    "PGName = pd.read_excel(\"Predictive Score Doc\\Xlsx\\PGName.xlsx\")"
   ]
  },
  {
   "cell_type": "code",
   "execution_count": 36,
   "metadata": {},
   "outputs": [],
   "source": [
    "PGSpec = pd.read_excel(\"Predictive Score Doc\\Xlsx\\PGSpec.xlsx\")"
   ]
  },
  {
   "cell_type": "code",
   "execution_count": 37,
   "metadata": {},
   "outputs": [],
   "source": [
    "PGIns = pd.read_excel(\"Predictive Score Doc\\Xlsx\\PGIns.xlsx\")"
   ]
  },
  {
   "cell_type": "code",
   "execution_count": 38,
   "metadata": {},
   "outputs": [],
   "source": [
    "PreviousEmp = pd.read_excel(\"Predictive Score Doc\\Xlsx\\PreviousEmp.xlsx\")"
   ]
  },
  {
   "cell_type": "code",
   "execution_count": 39,
   "metadata": {},
   "outputs": [],
   "source": [
    "PreviousDesignation = pd.read_excel(\"Predictive Score Doc\\Xlsx\\PreviousDesignation.xlsx\")"
   ]
  },
  {
   "cell_type": "code",
   "execution_count": 40,
   "metadata": {},
   "outputs": [],
   "source": [
    "Industry = pd.read_excel(\"Predictive Score Doc\\Xlsx\\Industry.xlsx\")"
   ]
  },
  {
   "cell_type": "code",
   "execution_count": 41,
   "metadata": {},
   "outputs": [],
   "source": [
    "FunctionArea = pd.read_excel(\"Predictive Score Doc\\Xlsx\\FunctionArea.xlsx\")"
   ]
  },
  {
   "cell_type": "code",
   "execution_count": 42,
   "metadata": {},
   "outputs": [],
   "source": [
    "IndentRequirment = pd.read_excel(\"Predictive Score Doc\\Xlsx\\IndentRequirment.xlsx\")"
   ]
  },
  {
   "cell_type": "code",
   "execution_count": 43,
   "metadata": {},
   "outputs": [],
   "source": [
    "SourceName = pd.read_excel(\"Predictive Score Doc\\Xlsx\\SourceName.xlsx\")"
   ]
  },
  {
   "cell_type": "code",
   "execution_count": 65,
   "metadata": {},
   "outputs": [],
   "source": [
    "Low_pop = pd.read_csv(\"Predictive Score Doc\\Low_Pop\\cat_map_tab_BM_DBM_model.csv\")"
   ]
  },
  {
   "cell_type": "code",
   "execution_count": 175,
   "metadata": {},
   "outputs": [],
   "source": [
    "sample_data = pd.read_excel(\"Sample.xlsx\")\n",
    "allCandidate = []\n"
   ]
  },
  {
   "cell_type": "code",
   "execution_count": 176,
   "metadata": {},
   "outputs": [],
   "source": [
    "firstCandidate = sample_data.iloc[0]"
   ]
  },
  {
   "cell_type": "code",
   "execution_count": 177,
   "metadata": {},
   "outputs": [
    {
     "data": {
      "text/plain": [
       "RID                                                                8\n",
       "Gender                                                          Male\n",
       "Age                                                               50\n",
       "MartitalStatus                                                Single\n",
       "QName1                                    Bachelor of Business Admin\n",
       "QType1                                                     Full Time\n",
       "Qpercentage                                                       88\n",
       "PGName                                                     EPGPBM-PT\n",
       "PGSpecification                                             AVIONICS\n",
       "PGIns                                           ? LOYOLA HIGH SCHOOL\n",
       "PGPercentage                                                      67\n",
       "PreviousEmployer        ABN Amro Bank,Hongkong and Shanghai Banking \n",
       "PreviousDesignation                                 ACCOUNTS MANAGER\n",
       "PresentCTC                                                      1000\n",
       "WorkExperience                                                     3\n",
       "Industry                                                 IT Software\n",
       "FunctionalArea                                        Administration\n",
       "SourceName                                              Lordisystems\n",
       "IndentTitle                                           BRANCH MANAGER\n",
       "Name: 0, dtype: object"
      ]
     },
     "execution_count": 177,
     "metadata": {},
     "output_type": "execute_result"
    }
   ],
   "source": [
    "firstCandidate"
   ]
  },
  {
   "cell_type": "code",
   "execution_count": 202,
   "metadata": {},
   "outputs": [],
   "source": [
    "Qualification = QName[QName['QName1'] == firstCandidate.QName1]['QName1_Class'].item().encode(\"utf-8\")\n",
    "PostGraduateName = PGName[PGName['PGName2'] == firstCandidate.PGName]['PGName2_Class'].item().encode(\"utf-8\")\n",
    "PostSpec = PGSpec[PGSpec['PGSpec'] == firstCandidate.PGSpecification]['PGSpec_Class'].item().encode(\"utf-8\")\n",
    "University = PGIns[PGIns['PGIns2 / PGUni2'] == firstCandidate.PGIns]['PGIns_Class'].item().encode(\"utf-8\")\n",
    "PreiviousEmpDetail = PreviousEmp[PreviousEmp['Previous Employer'] == firstCandidate.PreviousEmployer]['Prev_Empl_Class'].item().encode(\"utf-8\")\n",
    "Designation = PreviousDesignation[PreviousDesignation['Previous Designation'] == firstCandidate.PreviousDesignation]['Prev_Desig_Class'].item().encode(\"utf-8\")  \n",
    "IndustryDetail = Industry[Industry['Industry'] == firstCandidate.Industry]['Industry_Class'].item().encode(\"utf-8\")\n",
    "functionA = FunctionArea[FunctionArea['Functional_Area'] ==  firstCandidate.FunctionalArea]['Function_Class'].item().encode(\"utf-8\")\n",
    "SourceNa = SourceName[SourceName['Source TAG'] == firstCandidate.SourceName]['Source Name'].item().encode(\"utf-8\")\n",
    "Requirement = IndentRequirment[IndentRequirment['Indent Title'] == firstCandidate.IndentTitle]['Title_Class'].item().encode(\"utf-8\")"
   ]
  },
  {
   "cell_type": "code",
   "execution_count": 207,
   "metadata": {},
   "outputs": [
    {
     "data": {
      "text/plain": [
       "7"
      ]
     },
     "execution_count": 207,
     "metadata": {},
     "output_type": "execute_result"
    }
   ],
   "source": [
    "sample_data.last_valid_index()"
   ]
  },
  {
   "cell_type": "code",
   "execution_count": 211,
   "metadata": {},
   "outputs": [
    {
     "name": "stdout",
     "output_type": "stream",
     "text": [
      "hello\n",
      "hello\n",
      "hello\n",
      "hello\n",
      "hello\n",
      "hello\n",
      "hello\n"
     ]
    }
   ],
   "source": [
    "for i in range(0,sample_data.last_valid_index()):\n",
    "    rid = {}\n",
    "    rid['RID'] = sample_data.iloc[i].RID\n",
    "    firstCandidate = "
   ]
  },
  {
   "cell_type": "code",
   "execution_count": null,
   "metadata": {},
   "outputs": [],
   "source": []
  }
 ],
 "metadata": {
  "kernelspec": {
   "display_name": "Python 2",
   "language": "python",
   "name": "python2"
  },
  "language_info": {
   "codemirror_mode": {
    "name": "ipython",
    "version": 2
   },
   "file_extension": ".py",
   "mimetype": "text/x-python",
   "name": "python",
   "nbconvert_exporter": "python",
   "pygments_lexer": "ipython2",
   "version": "2.7.13"
  }
 },
 "nbformat": 4,
 "nbformat_minor": 2
}
