{
 "cells": [
  {
   "cell_type": "code",
   "execution_count": 1,
   "metadata": {},
   "outputs": [],
   "source": [
    "import numpy as np"
   ]
  },
  {
   "cell_type": "code",
   "execution_count": 2,
   "metadata": {},
   "outputs": [],
   "source": [
    "import pandas as pd"
   ]
  },
  {
   "cell_type": "code",
   "execution_count": 9,
   "metadata": {},
   "outputs": [],
   "source": [
    "stageAndstatus = pd.read_excel(\"/Volumes/My File/Codes/Predictive/Predictive Score Doc/Xlsx/stage&status.xlsx\")"
   ]
  },
  {
   "cell_type": "code",
   "execution_count": 10,
   "metadata": {},
   "outputs": [],
   "source": [
    "QName = pd.read_excel(\"/Volumes/My File/Codes/Predictive/Predictive Score Doc/Xlsx/QName.xlsx\")"
   ]
  },
  {
   "cell_type": "code",
   "execution_count": 11,
   "metadata": {},
   "outputs": [],
   "source": [
    "PGName = pd.read_excel(\"/Volumes/My File/Codes/Predictive/Predictive Score Doc/Xlsx/PGName.xlsx\")"
   ]
  },
  {
   "cell_type": "code",
   "execution_count": 22,
   "metadata": {},
   "outputs": [],
   "source": [
    "PGSpec = pd.read_excel(\"/Volumes/My File/Codes/Predictive/Predictive Score Doc/Xlsx/PGSpec.xlsx\")"
   ]
  },
  {
   "cell_type": "code",
   "execution_count": 12,
   "metadata": {},
   "outputs": [],
   "source": [
    "PGIns = pd.read_excel(\"/Volumes/My File/Codes/Predictive/Predictive Score Doc/Xlsx/PGIns.xlsx\")"
   ]
  },
  {
   "cell_type": "code",
   "execution_count": 13,
   "metadata": {},
   "outputs": [],
   "source": [
    "PreviousEmp = pd.read_excel(\"/Volumes/My File/Codes/Predictive/Predictive Score Doc/Xlsx/PreviousEmp.xlsx\")"
   ]
  },
  {
   "cell_type": "code",
   "execution_count": 14,
   "metadata": {},
   "outputs": [],
   "source": [
    "PreviousDesignation = pd.read_excel(\"/Volumes/My File/Codes/Predictive/Predictive Score Doc/Xlsx/PreviousDesignation.xlsx\")"
   ]
  },
  {
   "cell_type": "code",
   "execution_count": 15,
   "metadata": {},
   "outputs": [],
   "source": [
    "Industry = pd.read_excel(\"/Volumes/My File/Codes/Predictive/Predictive Score Doc/Xlsx/Industry.xlsx\")"
   ]
  },
  {
   "cell_type": "code",
   "execution_count": 16,
   "metadata": {},
   "outputs": [],
   "source": [
    "FunctionArea = pd.read_excel(\"/Volumes/My File/Codes/Predictive/Predictive Score Doc/Xlsx/FunctionArea.xlsx\")"
   ]
  },
  {
   "cell_type": "code",
   "execution_count": 17,
   "metadata": {},
   "outputs": [],
   "source": [
    "IndentRequirment = pd.read_excel(\"/Volumes/My File/Codes/Predictive/Predictive Score Doc/Xlsx/IndentRequirment.xlsx\")"
   ]
  },
  {
   "cell_type": "code",
   "execution_count": 18,
   "metadata": {},
   "outputs": [],
   "source": [
    "SourceName = pd.read_excel(\"/Volumes/My File/Codes/Predictive/Predictive Score Doc/Xlsx/SourceName.xlsx\")"
   ]
  },
  {
   "cell_type": "code",
   "execution_count": 19,
   "metadata": {},
   "outputs": [],
   "source": [
    "Low_pop = pd.read_csv(\"/Volumes/My File/Codes/Predictive/Predictive Score Doc/Low_Pop/cat_map_tab_BM_DBM_model.csv\")"
   ]
  },
  {
   "cell_type": "code",
   "execution_count": 20,
   "metadata": {},
   "outputs": [],
   "source": [
    "sample_data = pd.read_excel(\"/Volumes/My File/Codes/Predictive/Sample.xlsx\")\n",
    "allCandidate = []"
   ]
  },
  {
   "cell_type": "code",
   "execution_count": 27,
   "metadata": {},
   "outputs": [],
   "source": [
    "firstCandidate = sample_data.iloc[4]"
   ]
  },
  {
   "cell_type": "code",
   "execution_count": 28,
   "metadata": {},
   "outputs": [
    {
     "data": {
      "text/plain": [
       "RID                                                                  236\n",
       "Gender                                                            Female\n",
       "Age                                                                   45\n",
       "MartitalStatus                                                   Married\n",
       "QName1                                                              B.IT\n",
       "QType1                                                         Full Time\n",
       "Qpercentage                                                          9.6\n",
       "PGName                                                         MSMKTG-FT\n",
       "PGSpecification                                           HR & MARKETING\n",
       "PGIns                                                     CA Rank Holder\n",
       "PGPercentage                                                         7.7\n",
       "PreviousEmployer        ?   Duration,STAR UNION DAICHI,FINO NATIONAL ...\n",
       "PreviousDesignation                                                  NaN\n",
       "PresentCTC                                                         52345\n",
       "WorkExperience                                                         8\n",
       "Industry                                                  Petrochemicals\n",
       "FunctionalArea                                          Brand Management\n",
       "SourceName                                                    ICICI BANK\n",
       "IndentTitle                                        DEPUTY BRANCH MANAGER\n",
       "Name: 4, dtype: object"
      ]
     },
     "execution_count": 28,
     "metadata": {},
     "output_type": "execute_result"
    }
   ],
   "source": [
    "firstCandidate"
   ]
  },
  {
   "cell_type": "code",
   "execution_count": 35,
   "metadata": {},
   "outputs": [
    {
     "data": {
      "text/plain": [
       "'DBM'"
      ]
     },
     "execution_count": 35,
     "metadata": {},
     "output_type": "execute_result"
    }
   ],
   "source": [
    "QName[QName['QName1'] == firstCandidate.QName1]['QName1_Class'].item().encode(\"utf-8\")\n",
    "PGName[PGName['PGName2'] == firstCandidate.PGName]['PGName2_Class'].item().encode(\"utf-8\")\n",
    "PGSpec[PGSpec['PGSpec'] == firstCandidate.PGSpecification]['PGSpec_Class'].item().encode(\"utf-8\")\n",
    "PGIns[PGIns['PGIns2 / PGUni2'] == firstCandidate.PGIns]['PGIns_Class'].item().encode(\"utf-8\")\n",
    "PreviousEmp[PreviousEmp['Previous Employer'] == firstCandidate.PreviousEmployer]['Prev_Empl_Class'].item().encode(\"utf-8\")\n",
    "PreviousDesignation[PreviousDesignation['Previous Designation'] == firstCandidate.PreviousDesignation]['Prev_Desig_Class'].item().encode(\"utf-8\")  \n",
    "Industry[Industry['Industry'] == firstCandidate.Industry]['Industry_Class'].item().encode(\"utf-8\")\n",
    "FunctionArea[FunctionArea['Functional_Area'] ==  firstCandidate.FunctionalArea]['Function_Class'].item().encode(\"utf-8\")\n",
    "SourceName[SourceName['Source TAG'] == firstCandidate.SourceName]['Source Name'].item().encode(\"utf-8\")\n",
    "IndentRequirment[IndentRequirment['Indent Title'] == firstCandidate.IndentTitle]['Title_Class'].item().encode(\"utf-8\")"
   ]
  },
  {
   "cell_type": "code",
   "execution_count": 207,
   "metadata": {},
   "outputs": [
    {
     "data": {
      "text/plain": [
       "7"
      ]
     },
     "execution_count": 207,
     "metadata": {},
     "output_type": "execute_result"
    }
   ],
   "source": [
    "sample_data.last_valid_index()"
   ]
  },
  {
   "cell_type": "code",
   "execution_count": 52,
   "metadata": {},
   "outputs": [],
   "source": [
    "for i in range(0,sample_data.last_valid_index()):\n",
    "    rid = {}\n",
    "    rid['RID'] = sample_data.iloc[i].RID\n",
    "    rid['Qualification'] = QName[QName['QName1'] == sample_data.iloc[i].QName1]['QName1_Class'].item().encode(\"utf-8\") if len(QName[QName['QName1'] == sample_data.iloc[i].QName1]['QName1_Class']) > 0 else \"UNKNOWN\"\n",
    "    rid['PostGraduateName'] = PGName[PGName['PGName2'] == sample_data.iloc[i].PGName]['PGName2_Class'].item().encode(\"utf-8\") if len(PGName[PGName['PGName2'] == sample_data.iloc[i].PGName]['PGName2_Class']) > 0 else \"UNKNOWN\"\n",
    "    rid['PostSpec'] = PGSpec[PGSpec['PGSpec'] == sample_data.iloc[i].PGSpecification]['PGSpec_Class'].item().encode(\"utf-8\") if len(PGSpec[PGSpec['PGSpec'] == sample_data.iloc[i].PGSpecification]['PGSpec_Class']) > 0 else \"UNKNOWN\"\n",
    "    rid['University'] = PGIns[PGIns['PGIns2 / PGUni2'] == sample_data.iloc[i].PGIns]['PGIns_Class'].item().encode(\"utf-8\") if len(PGIns[PGIns['PGIns2 / PGUni2'] == sample_data.iloc[i].PGIns]['PGIns_Class']) > 0  else \"UNKNOWN\"\n",
    "    rid['PreiviousEmpDetail'] = PreviousEmp[PreviousEmp['Previous Employer'] == sample_data.iloc[i].PreviousEmployer]['Prev_Empl_Class'].item().encode(\"utf-8\") if len(PreviousEmp[PreviousEmp['Previous Employer'] == sample_data.iloc[i].PreviousEmployer]['Prev_Empl_Class']) > 0  else \"UNKNOWN\"\n",
    "    rid['Designation'] = PreviousDesignation[PreviousDesignation['Previous Designation'] == sample_data.iloc[i].PreviousDesignation]['Prev_Desig_Class'].item().encode(\"utf-8\") if len(PreviousDesignation[PreviousDesignation['Previous Designation'] == sample_data.iloc[i].PreviousDesignation]['Prev_Desig_Class']) > 0 else \"UNKNOWN\"\n",
    "    rid['IndustryDetail'] = Industry[Industry['Industry'] == sample_data.iloc[i].Industry]['Industry_Class'].item().encode(\"utf-8\") if len(Industry[Industry['Industry'] == sample_data.iloc[i].Industry]['Industry_Class']) > 0 else \"UNKNOWN\"\n",
    "    rid['functionA'] = FunctionArea[FunctionArea['Functional_Area'] ==  sample_data.iloc[i].FunctionalArea]['Function_Class'].item().encode(\"utf-8\") if len(FunctionArea[FunctionArea['Functional_Area'] ==  sample_data.iloc[i].FunctionalArea]['Function_Class']) > 0 else \"UNKNOWN\"\n",
    "    rid['SourceNa'] = SourceName[SourceName['Source TAG'] == sample_data.iloc[i].SourceName]['Source Name'].item().encode(\"utf-8\") if  len(SourceName[SourceName['Source TAG'] == sample_data.iloc[i].SourceName]['Source Name']) > 0 else \"UNKNOWN\"\n",
    "    rid['Requirement'] = IndentRequirment[IndentRequirment['Indent Title'] == sample_data.iloc[i].IndentTitle]['Title_Class'].item().encode(\"utf-8\") if len(IndentRequirment[IndentRequirment['Indent Title'] == sample_data.iloc[i].IndentTitle]['Title_Class']) > 0 else \"UNKNOWN\"\n",
    "    allCandidate.append(rid)"
   ]
  },
  {
   "cell_type": "code",
   "execution_count": 53,
   "metadata": {},
   "outputs": [
    {
     "data": {
      "text/plain": [
       "[{'Designation': 'ACCOUNTS MANAGER',\n",
       "  'IndustryDetail': 'ENGINEERING',\n",
       "  'PostGraduateName': 'NOT APPLICABLE',\n",
       "  'PostSpec': 'ENGINEERING',\n",
       "  'PreiviousEmpDetail': 'BANKING/BFSI',\n",
       "  'Qualification': 'MANAGEMENT',\n",
       "  'RID': 8,\n",
       "  'Requirement': 'BM',\n",
       "  'SourceNa': 'Consultant',\n",
       "  'University': 'TIER_2',\n",
       "  'functionA': 'ADMINISTRATION'},\n",
       " {'Designation': 'ACCOUNTS MANAGER',\n",
       "  'IndustryDetail': 'ENGINEERING',\n",
       "  'PostGraduateName': 'NOT APPLICABLE',\n",
       "  'PostSpec': 'ENGINEERING',\n",
       "  'PreiviousEmpDetail': 'BANKING/BFSI',\n",
       "  'Qualification': 'MANAGEMENT',\n",
       "  'RID': 8,\n",
       "  'Requirement': 'BM',\n",
       "  'SourceNa': 'Consultant',\n",
       "  'University': 'TIER_2',\n",
       "  'functionA': 'ADMINISTRATION'},\n",
       " {'Designation': 'ACCOUNTS MANAGER',\n",
       "  'IndustryDetail': 'ENGINEERING',\n",
       "  'PostGraduateName': 'NOT APPLICABLE',\n",
       "  'PostSpec': 'ENGINEERING',\n",
       "  'PreiviousEmpDetail': 'BANKING/BFSI',\n",
       "  'Qualification': 'MANAGEMENT',\n",
       "  'RID': 8,\n",
       "  'Requirement': 'BM',\n",
       "  'SourceNa': 'Consultant',\n",
       "  'University': 'TIER_2',\n",
       "  'functionA': 'ADMINISTRATION'},\n",
       " {'Designation': 'ACCOUNTS MANAGER',\n",
       "  'IndustryDetail': 'ENGINEERING',\n",
       "  'PostGraduateName': 'NOT APPLICABLE',\n",
       "  'PostSpec': 'ENGINEERING',\n",
       "  'PreiviousEmpDetail': 'BANKING/BFSI',\n",
       "  'Qualification': 'MANAGEMENT',\n",
       "  'RID': 8,\n",
       "  'Requirement': 'BM',\n",
       "  'SourceNa': 'Consultant',\n",
       "  'University': 'TIER_2',\n",
       "  'functionA': 'ADMINISTRATION'},\n",
       " {'Designation': 'UNKNOWN',\n",
       "  'IndustryDetail': 'TELECOM',\n",
       "  'PostGraduateName': 'MBA',\n",
       "  'PostSpec': 'OTHERS',\n",
       "  'PreiviousEmpDetail': 'NON BANKING',\n",
       "  'Qualification': 'MANAGEMENT',\n",
       "  'RID': 324,\n",
       "  'Requirement': 'BM',\n",
       "  'SourceNa': 'Job Portal',\n",
       "  'University': 'TIER_3',\n",
       "  'functionA': 'IT'},\n",
       " {'Designation': 'UNKNOWN',\n",
       "  'IndustryDetail': 'AGRICULTURE',\n",
       "  'PostGraduateName': 'ENGINEERING',\n",
       "  'PostSpec': 'IT',\n",
       "  'PreiviousEmpDetail': 'NON BANKING',\n",
       "  'Qualification': 'ARTS',\n",
       "  'RID': 12,\n",
       "  'Requirement': 'DBM',\n",
       "  'SourceNa': 'ICICI Careers',\n",
       "  'University': 'UNKNOWN',\n",
       "  'functionA': 'CUSTOMER SUPPORT/BPO'},\n",
       " {'Designation': 'UNKNOWN',\n",
       "  'IndustryDetail': 'OTHERS',\n",
       "  'PostGraduateName': 'MANAGEMENT',\n",
       "  'PostSpec': 'FINANCE',\n",
       "  'PreiviousEmpDetail': 'BANKING/BFSI',\n",
       "  'Qualification': 'ENGINEERING',\n",
       "  'RID': 45,\n",
       "  'Requirement': 'CBM',\n",
       "  'SourceNa': 'EGES',\n",
       "  'University': 'TIER_3',\n",
       "  'functionA': 'BANKING'},\n",
       " {'Designation': 'UNKNOWN',\n",
       "  'IndustryDetail': 'FMCG',\n",
       "  'PostGraduateName': 'MANAGEMENT',\n",
       "  'PostSpec': 'MANAGEMENT',\n",
       "  'PreiviousEmpDetail': 'BANKING/BFSI',\n",
       "  'Qualification': 'IT',\n",
       "  'RID': 236,\n",
       "  'Requirement': 'DBM',\n",
       "  'SourceNa': 'ICICI Careers',\n",
       "  'University': 'TIER_1',\n",
       "  'functionA': 'MARKETING'},\n",
       " {'Designation': 'UNKNOWN',\n",
       "  'IndustryDetail': 'FMCG',\n",
       "  'PostGraduateName': 'MANAGEMENT',\n",
       "  'PostSpec': 'MANAGEMENT',\n",
       "  'PreiviousEmpDetail': 'BANKING/BFSI',\n",
       "  'Qualification': 'MANAGEMENT',\n",
       "  'RID': 237,\n",
       "  'Requirement': 'BM',\n",
       "  'SourceNa': 'Consultant',\n",
       "  'University': 'TIER_2',\n",
       "  'functionA': 'OPERATIONS'},\n",
       " {'Designation': 'UNKNOWN',\n",
       "  'IndustryDetail': 'REAL ESTATE',\n",
       "  'PostGraduateName': 'IT',\n",
       "  'PostSpec': 'MANAGEMENT',\n",
       "  'PreiviousEmpDetail': 'UNKNOWN',\n",
       "  'Qualification': 'UNKNOWN',\n",
       "  'RID': 978,\n",
       "  'Requirement': 'BM',\n",
       "  'SourceNa': 'Consultant',\n",
       "  'University': 'UNKNOWN',\n",
       "  'functionA': 'SALES'}]"
      ]
     },
     "execution_count": 53,
     "metadata": {},
     "output_type": "execute_result"
    }
   ],
   "source": [
    "allCandidate"
   ]
  },
  {
   "cell_type": "code",
   "execution_count": null,
   "metadata": {},
   "outputs": [],
   "source": []
  },
  {
   "cell_type": "code",
   "execution_count": null,
   "metadata": {},
   "outputs": [],
   "source": []
  }
 ],
 "metadata": {
  "kernelspec": {
   "display_name": "Python 2",
   "language": "python",
   "name": "python2"
  },
  "language_info": {
   "codemirror_mode": {
    "name": "ipython",
    "version": 2
   },
   "file_extension": ".py",
   "mimetype": "text/x-python",
   "name": "python",
   "nbconvert_exporter": "python",
   "pygments_lexer": "ipython2",
   "version": "2.7.15"
  }
 },
 "nbformat": 4,
 "nbformat_minor": 2
}
